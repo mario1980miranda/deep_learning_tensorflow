{
 "cells": [
  {
   "cell_type": "code",
   "execution_count": null,
   "metadata": {},
   "outputs": [],
   "source": [
    "from tensorflow.examples.tutorials.mnist import input_data\n",
    "mnist = input_data.read_data_sets('mnist/', one_hot = True)\n",
    "X = mnist.train.images"
   ]
  },
  {
   "cell_type": "code",
   "execution_count": 4,
   "metadata": {},
   "outputs": [
    {
     "data": {
      "text/plain": [
       "<matplotlib.image.AxesImage at 0x1c3ee40f28>"
      ]
     },
     "execution_count": 4,
     "metadata": {},
     "output_type": "execute_result"
    },
    {
     "data": {
      "image/png": "[encoded data removed]",
      "text/plain": [
       "<Figure size 432x288 with 1 Axes>"
      ]
     },
     "metadata": {},
     "output_type": "display_data"
    }
   ],
   "source": [
    "import matplotlib.pyplot as plt\n",
    "%matplotlib inline\n",
    "plt.imshow(X[1].reshape(28,28))"
   ]
  },
  {
   "cell_type": "code",
   "execution_count": 5,
   "metadata": {},
   "outputs": [],
   "source": [
    "# 784 -> 128 -> 64 -> 128 -> 784"
   ]
  },
  {
   "cell_type": "code",
   "execution_count": 6,
   "metadata": {},
   "outputs": [],
   "source": [
    "# encoder\n",
    "neuronios_entrada = 784\n",
    "neuronios_oculta1 = 128\n",
    "\n",
    "# dado/imagem codificada\n",
    "neuronios_oculta2 = 64\n",
    "\n",
    "# decoder\n",
    "neuronios_oculta3 = neuronios_oculta1\n",
    "neuronios_saida = neuronios_entrada"
   ]
  },
  {
   "cell_type": "code",
   "execution_count": 7,
   "metadata": {},
   "outputs": [],
   "source": [
    "import tensorflow as tf\n",
    "tf.reset_default_graph()"
   ]
  },
  {
   "cell_type": "code",
   "execution_count": 8,
   "metadata": {},
   "outputs": [],
   "source": [
    "xph = tf.placeholder(tf.float32, [None, neuronios_entrada])"
   ]
  },
  {
   "cell_type": "code",
   "execution_count": 10,
   "metadata": {},
   "outputs": [],
   "source": [
    "# Xavier: sigmoid\n",
    "# He: relu\n",
    "inicializador = tf.variance_scaling_initializer()"
   ]
  },
  {
   "cell_type": "code",
   "execution_count": 12,
   "metadata": {},
   "outputs": [],
   "source": [
    "# 784 -> 128 -> 64 -> 128 -> 784\n",
    "W = {'encoder_oculta1': tf.Variable(inicializador([neuronios_entrada, neuronios_oculta1])),\n",
    "     'encoder_oculta2': tf.Variable(inicializador([neuronios_oculta1, neuronios_oculta2])),\n",
    "     'decoder_oculta3': tf.Variable(inicializador([neuronios_oculta2, neuronios_oculta3])),\n",
    "     'decoder_saida': tf.Variable(inicializador([neuronios_oculta3, neuronios_saida]))\n",
    "}"
   ]
  },
  {
   "cell_type": "code",
   "execution_count": 13,
   "metadata": {},
   "outputs": [],
   "source": [
    "b = {'encoder_oculta1': tf.Variable(inicializador([neuronios_oculta1])),\n",
    "     'encoder_oculta2': tf.Variable(inicializador([neuronios_oculta2])),\n",
    "     'decoder_oculta3': tf.Variable(inicializador([neuronios_oculta3])),\n",
    "     'decoder_saida': tf.Variable(inicializador([neuronios_saida]))\n",
    "}"
   ]
  },
  {
   "cell_type": "code",
   "execution_count": 15,
   "metadata": {},
   "outputs": [],
   "source": [
    "camada_oculta1 = tf.nn.relu(tf.add(tf.matmul(xph, W['encoder_oculta1']), b['encoder_oculta1']))\n",
    "camada_oculta2 = tf.nn.relu(tf.add(tf.matmul(camada_oculta1, W['encoder_oculta2']), b['encoder_oculta2']))\n",
    "camada_oculta3 = tf.nn.relu(tf.add(tf.matmul(camada_oculta2, W['decoder_oculta3']), b['decoder_oculta3']))\n",
    "camada_saida = tf.nn.relu(tf.add(tf.matmul(camada_oculta3, W['decoder_saida']), b['decoder_saida']))"
   ]
  },
  {
   "cell_type": "code",
   "execution_count": 16,
   "metadata": {},
   "outputs": [],
   "source": [
    "erro = tf.losses.mean_squared_error(xph, camada_saida)\n",
    "otimizador = tf.train.AdamOptimizer(learning_rate = 0.001)\n",
    "treinamento = otimizador.minimize(erro)\n",
    "batch_size = 128"
   ]
  },
  {
   "cell_type": "code",
   "execution_count": 18,
   "metadata": {},
   "outputs": [
    {
     "name": "stdout",
     "output_type": "stream",
     "text": [
      "época: 1 erro: 0.01952338\n",
      "época: 2 erro: 0.015600423\n",
      "época: 3 erro: 0.013935093\n",
      "época: 4 erro: 0.014563898\n",
      "época: 5 erro: 0.013964899\n",
      "época: 6 erro: 0.013490865\n",
      "época: 7 erro: 0.013128604\n",
      "época: 8 erro: 0.013369382\n",
      "época: 9 erro: 0.01362943\n",
      "época: 10 erro: 0.012102664\n",
      "época: 11 erro: 0.012654931\n",
      "época: 12 erro: 0.012730897\n",
      "época: 13 erro: 0.012801492\n",
      "época: 14 erro: 0.012998333\n",
      "época: 15 erro: 0.012159527\n",
      "época: 16 erro: 0.0123996725\n",
      "época: 17 erro: 0.012291718\n",
      "época: 18 erro: 0.011834145\n",
      "época: 19 erro: 0.0126852505\n",
      "época: 20 erro: 0.012416426\n",
      "época: 21 erro: 0.012731731\n",
      "época: 22 erro: 0.012747558\n",
      "época: 23 erro: 0.012219922\n",
      "época: 24 erro: 0.012782447\n",
      "época: 25 erro: 0.012429545\n",
      "época: 26 erro: 0.011658542\n",
      "época: 27 erro: 0.011890365\n",
      "época: 28 erro: 0.013420635\n",
      "época: 29 erro: 0.012250601\n",
      "época: 30 erro: 0.0120607605\n",
      "época: 31 erro: 0.011922376\n",
      "época: 32 erro: 0.01317529\n",
      "época: 33 erro: 0.012731505\n",
      "época: 34 erro: 0.012694549\n",
      "época: 35 erro: 0.013091166\n",
      "época: 36 erro: 0.012353379\n",
      "época: 37 erro: 0.011804588\n",
      "época: 38 erro: 0.011822898\n",
      "época: 39 erro: 0.012478154\n",
      "época: 40 erro: 0.011098412\n",
      "época: 41 erro: 0.012456954\n",
      "época: 42 erro: 0.012914538\n",
      "época: 43 erro: 0.012873805\n",
      "época: 44 erro: 0.012177822\n",
      "época: 45 erro: 0.011776849\n",
      "época: 46 erro: 0.011842637\n",
      "época: 47 erro: 0.011799897\n",
      "época: 48 erro: 0.012095573\n",
      "época: 49 erro: 0.011413066\n",
      "época: 50 erro: 0.011909001\n"
     ]
    }
   ],
   "source": [
    "with tf.Session() as sess:\n",
    "    sess.run(tf.global_variables_initializer())\n",
    "    for epoca in range(50):\n",
    "        numero_batches = mnist.train.num_examples // batch_size\n",
    "        for i in range(numero_batches):\n",
    "            X_batch, _ = mnist.train.next_batch(batch_size)\n",
    "            custo, _ = sess.run([erro, treinamento], feed_dict = {xph: X_batch})\n",
    "        print('época: ' + str(epoca + 1) + ' erro: ' + str(custo))\n",
    "    \n",
    "    imagens_codificadas = sess.run(camada_oculta2, feed_dict = {xph: X})\n",
    "    imagens_decodificadas = sess.run(camada_saida, feed_dict = {xph: X})"
   ]
  },
  {
   "cell_type": "code",
   "execution_count": 19,
   "metadata": {},
   "outputs": [
    {
     "data": {
      "text/plain": [
       "(55000, 64)"
      ]
     },
     "execution_count": 19,
     "metadata": {},
     "output_type": "execute_result"
    }
   ],
   "source": [
    "imagens_codificadas.shape"
   ]
  },
  {
   "cell_type": "code",
   "execution_count": 20,
   "metadata": {},
   "outputs": [
    {
     "data": {
      "text/plain": [
       "array([1.2247293 , 1.9721667 , 0.        , 2.6012943 , 0.        ,\n",
       "       1.3958687 , 2.0767071 , 0.        , 0.        , 1.2540141 ,\n",
       "       0.87828535, 1.7531288 , 1.9255728 , 0.        , 1.3608403 ,\n",
       "       0.        , 1.5699751 , 0.        , 0.        , 1.5707343 ,\n",
       "       2.0978467 , 1.5079731 , 1.1023841 , 2.4627476 , 0.        ,\n",
       "       2.0786014 , 0.        , 1.3541212 , 1.3184564 , 0.        ,\n",
       "       0.        , 0.        , 0.7733691 , 0.        , 0.4092394 ,\n",
       "       1.1147168 , 0.3444962 , 2.2417314 , 0.7914021 , 0.8660021 ,\n",
       "       1.8022761 , 0.        , 2.2558904 , 1.774883  , 1.4006109 ,\n",
       "       0.        , 0.8422859 , 1.9406065 , 2.2699819 , 0.9662199 ,\n",
       "       0.        , 0.        , 1.04002   , 0.8063988 , 1.0067446 ,\n",
       "       0.        , 0.        , 1.2923586 , 2.4976656 , 0.        ,\n",
       "       1.3065418 , 1.4977047 , 0.985443  , 2.2792354 ], dtype=float32)"
      ]
     },
     "execution_count": 20,
     "metadata": {},
     "output_type": "execute_result"
    }
   ],
   "source": [
    "imagens_codificadas[0]"
   ]
  },
  {
   "cell_type": "code",
   "execution_count": 21,
   "metadata": {},
   "outputs": [
    {
     "data": {
      "text/plain": [
       "(55000, 784)"
      ]
     },
     "execution_count": 21,
     "metadata": {},
     "output_type": "execute_result"
    }
   ],
   "source": [
    "imagens_decodificadas.shape"
   ]
  },
  {
   "cell_type": "code",
   "execution_count": 22,
   "metadata": {},
   "outputs": [
    {
     "data": {
      "text/plain": [
       "array([0.        , 0.        , 0.        , 0.        , 0.        ,\n",
       "       0.        , 0.        , 0.        , 0.        , 0.        ,\n",
       "       0.        , 0.        , 0.        , 0.        , 0.        ,\n",
       "       0.        , 0.        , 0.        , 0.        , 0.        ,\n",
       "       0.        , 0.        , 0.        , 0.        , 0.        ,\n",
       "       0.        , 0.        , 0.        , 0.        , 0.        ,\n",
       "       0.        , 0.        , 0.        , 0.        , 0.        ,\n",
       "       0.        , 0.        , 0.        , 0.        , 0.        ,\n",
       "       0.        , 0.        , 0.        , 0.        , 0.        ,\n",
       "       0.        , 0.        , 0.        , 0.        , 0.        ,\n",
       "       0.        , 0.        , 0.        , 0.        , 0.        ,\n",
       "       0.        , 0.        , 0.        , 0.        , 0.        ,\n",
       "       0.        , 0.        , 0.        , 0.        , 0.        ,\n",
       "       0.        , 0.        , 0.        , 0.        , 0.        ,\n",
       "       0.        , 0.        , 0.        , 0.        , 0.        ,\n",
       "       0.        , 0.        , 0.        , 0.        , 0.        ,\n",
       "       0.        , 0.        , 0.        , 0.        , 0.        ,\n",
       "       0.        , 0.        , 0.        , 0.        , 0.        ,\n",
       "       0.        , 0.        , 0.        , 0.        , 0.        ,\n",
       "       0.        , 0.        , 0.        , 0.        , 0.        ,\n",
       "       0.        , 0.        , 0.        , 0.        , 0.        ,\n",
       "       0.        , 0.        , 0.        , 0.        , 0.        ,\n",
       "       0.        , 0.        , 0.        , 0.        , 0.        ,\n",
       "       0.        , 0.        , 0.        , 0.        , 0.        ,\n",
       "       0.        , 0.        , 0.        , 0.        , 0.        ,\n",
       "       0.        , 0.        , 0.        , 0.        , 0.        ,\n",
       "       0.        , 0.        , 0.        , 0.        , 0.        ,\n",
       "       0.        , 0.        , 0.        , 0.        , 0.        ,\n",
       "       0.        , 0.        , 0.        , 0.        , 0.        ,\n",
       "       0.        , 0.        , 0.        , 0.        , 0.        ,\n",
       "       0.        , 0.        , 0.        , 0.        , 0.        ,\n",
       "       0.        , 0.        , 0.        , 0.        , 0.        ,\n",
       "       0.        , 0.        , 0.        , 0.        , 0.        ,\n",
       "       0.        , 0.        , 0.        , 0.        , 0.        ,\n",
       "       0.        , 0.        , 0.        , 0.        , 0.        ,\n",
       "       0.        , 0.        , 0.        , 0.        , 0.        ,\n",
       "       0.        , 0.        , 0.        , 0.        , 0.        ,\n",
       "       0.        , 0.        , 0.        , 0.        , 0.        ,\n",
       "       0.        , 0.        , 0.        , 0.        , 0.        ,\n",
       "       0.        , 0.        , 0.        , 0.        , 0.        ,\n",
       "       0.        , 0.        , 0.2732156 , 0.27427775, 0.1912727 ,\n",
       "       0.09503937, 0.14120817, 0.21088281, 0.42179054, 0.5368712 ,\n",
       "       0.49627608, 0.4168601 , 0.20612672, 0.        , 0.        ,\n",
       "       0.        , 0.        , 0.        , 0.        , 0.        ,\n",
       "       0.        , 0.        , 0.        , 0.        , 0.        ,\n",
       "       0.        , 0.        , 0.        , 0.        , 0.        ,\n",
       "       0.7811414 , 0.8398104 , 0.8082375 , 0.7604844 , 0.84710544,\n",
       "       0.9844093 , 1.0551515 , 0.        , 1.0512431 , 0.9776518 ,\n",
       "       0.8706413 , 0.        , 0.32127547, 0.        , 0.        ,\n",
       "       0.        , 0.        , 0.        , 0.        , 0.        ,\n",
       "       0.        , 0.        , 0.        , 0.        , 0.        ,\n",
       "       0.        , 0.        , 0.8661787 , 0.9556007 , 1.0158453 ,\n",
       "       0.93489915, 0.922465  , 0.94299835, 0.9870451 , 0.93587565,\n",
       "       0.87845296, 0.80547285, 0.940574  , 1.0976698 , 1.0355966 ,\n",
       "       0.8759522 , 0.47470933, 0.        , 0.        , 0.        ,\n",
       "       0.        , 0.        , 0.        , 0.        , 0.        ,\n",
       "       0.        , 0.        , 0.        , 0.        , 0.        ,\n",
       "       0.5890597 , 0.5736093 , 0.52222484, 0.3755166 , 0.4433377 ,\n",
       "       0.5021831 , 0.39081877, 0.34158865, 0.30951145, 0.3932661 ,\n",
       "       0.6259288 , 0.8032948 , 0.89924955, 1.0385442 , 0.76023716,\n",
       "       0.23192848, 0.        , 0.        , 0.        , 0.        ,\n",
       "       0.        , 0.        , 0.        , 0.        , 0.        ,\n",
       "       0.        , 0.        , 0.        , 0.        , 0.        ,\n",
       "       0.        , 0.        , 0.        , 0.        , 0.        ,\n",
       "       0.        , 0.        , 0.        , 0.        , 0.26871485,\n",
       "       0.58730245, 0.9627253 , 0.95435596, 0.5830471 , 0.        ,\n",
       "       0.        , 0.        , 0.        , 0.        , 0.        ,\n",
       "       0.        , 0.        , 0.        , 0.        , 0.        ,\n",
       "       0.        , 0.        , 0.        , 0.        , 0.        ,\n",
       "       0.        , 0.        , 0.        , 0.        , 0.        ,\n",
       "       0.        , 0.        , 0.        , 0.38521886, 0.96414894,\n",
       "       1.1081867 , 0.79120415, 0.        , 0.        , 0.        ,\n",
       "       0.        , 0.        , 0.        , 0.        , 0.        ,\n",
       "       0.        , 0.        , 0.        , 0.        , 0.        ,\n",
       "       0.        , 0.        , 0.        , 0.        , 0.        ,\n",
       "       0.        , 0.        , 0.        , 0.        , 0.        ,\n",
       "       0.        , 0.42935377, 0.        , 1.1114203 , 0.83771044,\n",
       "       0.01097623, 0.        , 0.        , 0.        , 0.        ,\n",
       "       0.        , 0.        , 0.        , 0.        , 0.        ,\n",
       "       0.        , 0.        , 0.        , 0.        , 0.        ,\n",
       "       0.        , 0.        , 0.        , 0.        , 0.        ,\n",
       "       0.        , 0.        , 0.        , 0.24229243, 0.65471077,\n",
       "       1.0057061 , 1.1683868 , 0.84500206, 0.21976882, 0.        ,\n",
       "       0.        , 0.        , 0.        , 0.        , 0.        ,\n",
       "       0.        , 0.        , 0.        , 0.        , 0.        ,\n",
       "       0.        , 0.        , 0.        , 0.        , 0.        ,\n",
       "       0.11048329, 0.39281285, 0.5634678 , 0.6152468 , 0.70747125,\n",
       "       0.7989569 , 0.85888463, 0.8544223 , 1.0340829 , 1.1402864 ,\n",
       "       0.9281311 , 0.3996314 , 0.        , 0.        , 0.        ,\n",
       "       0.        , 0.        , 0.        , 0.        , 0.        ,\n",
       "       0.        , 0.        , 0.        , 0.        , 0.        ,\n",
       "       0.        , 0.        , 0.3684554 , 0.76787525, 0.90066516,\n",
       "       0.9356795 , 1.0992982 , 1.2503712 , 1.1307372 , 0.87967515,\n",
       "       0.8267076 , 0.97886217, 1.0904372 , 0.95713156, 0.5293546 ,\n",
       "       0.        , 0.        , 0.        , 0.        , 0.        ,\n",
       "       0.        , 0.        , 0.        , 0.        , 0.        ,\n",
       "       0.        , 0.        , 0.14812455, 0.45014307, 0.838963  ,\n",
       "       0.9729951 , 0.9230177 , 0.7562291 , 0.8063922 , 1.0019541 ,\n",
       "       1.0216118 , 0.6052031 , 0.28849298, 0.42223415, 0.76260316,\n",
       "       1.15762   , 0.9849705 , 0.50863135, 0.        , 0.        ,\n",
       "       0.        , 0.        , 0.        , 0.        , 0.        ,\n",
       "       0.        , 0.        , 0.        , 0.        , 0.11047518,\n",
       "       0.5690893 , 0.91910267, 1.1013192 , 0.9204588 , 0.58018386,\n",
       "       0.19456914, 0.1884253 , 0.32751402, 0.06832474, 0.        ,\n",
       "       0.        , 0.07249596, 0.6453112 , 1.0951017 , 0.90771675,\n",
       "       0.12820597, 0.        , 0.        , 0.        , 0.        ,\n",
       "       0.        , 0.        , 0.        , 0.        , 0.        ,\n",
       "       0.        , 0.        , 0.08130825, 0.43031847, 0.8221001 ,\n",
       "       0.83728784, 0.49868527, 0.10497983, 0.        , 0.        ,\n",
       "       0.        , 0.        , 0.        , 0.        , 0.09206928,\n",
       "       0.7249069 , 1.0231901 , 0.77237165, 0.        , 0.        ,\n",
       "       0.        , 0.        , 0.        , 0.        , 0.        ,\n",
       "       0.        , 0.        , 0.        , 0.        , 0.        ,\n",
       "       0.        , 0.16345185, 0.32745358, 0.27400026, 0.        ,\n",
       "       0.        , 0.        , 0.        , 0.        , 0.        ,\n",
       "       0.        , 0.        , 0.4275816 , 0.90723825, 1.0023038 ,\n",
       "       0.5849178 , 0.        , 0.        , 0.        , 0.        ,\n",
       "       0.        , 0.        , 0.        , 0.        , 0.        ,\n",
       "       0.        , 0.        , 0.        , 0.        , 0.        ,\n",
       "       0.        , 0.        , 0.        , 0.        , 0.        ,\n",
       "       0.        , 0.        , 0.        , 0.        , 0.23269074,\n",
       "       0.87237763, 1.1212717 , 1.0422059 , 0.40052778, 0.        ,\n",
       "       0.        , 0.        , 0.        , 0.        , 0.        ,\n",
       "       0.        , 0.        , 0.        , 0.        , 0.        ,\n",
       "       0.        , 0.        , 0.        , 0.        , 0.        ,\n",
       "       0.        , 0.        , 0.        , 0.        , 0.        ,\n",
       "       0.        , 0.19756112, 0.63543737, 1.1421165 , 1.2488062 ,\n",
       "       0.        , 0.00267418, 0.        , 0.        , 0.        ,\n",
       "       0.        , 0.        , 0.        , 0.        , 0.        ,\n",
       "       0.        , 0.        , 0.        , 0.        , 0.        ,\n",
       "       0.        , 0.        , 0.        , 0.        , 0.        ,\n",
       "       0.        , 0.        , 0.        , 0.        , 0.24674244,\n",
       "       0.8102982 , 1.2085886 , 0.9451319 , 0.31512353, 0.        ,\n",
       "       0.        , 0.        , 0.        , 0.        , 0.        ,\n",
       "       0.        , 0.        , 0.        , 0.        , 0.        ,\n",
       "       0.        , 0.        , 0.        , 0.        , 0.        ,\n",
       "       0.        , 0.        , 0.        , 0.        , 0.        ,\n",
       "       0.        , 0.        , 0.09504405, 0.6642332 , 0.7054673 ,\n",
       "       0.29514393, 0.        , 0.        , 0.        , 0.        ,\n",
       "       0.        , 0.        , 0.        , 0.        , 0.        ,\n",
       "       0.        , 0.        , 0.        , 0.        , 0.        ,\n",
       "       0.        , 0.        , 0.        , 0.        , 0.        ,\n",
       "       0.        , 0.        , 0.        , 0.        , 0.        ,\n",
       "       0.        , 0.25283435, 0.        , 0.        , 0.        ,\n",
       "       0.        , 0.        , 0.        , 0.        , 0.        ,\n",
       "       0.        , 0.        , 0.        , 0.        , 0.        ,\n",
       "       0.        , 0.        , 0.        , 0.        , 0.        ,\n",
       "       0.        , 0.        , 0.        , 0.        , 0.        ,\n",
       "       0.        , 0.        , 0.        , 0.        , 0.        ,\n",
       "       0.        , 0.        , 0.        , 0.        , 0.        ,\n",
       "       0.        , 0.        , 0.        , 0.        , 0.        ,\n",
       "       0.        , 0.        , 0.        , 0.        , 0.        ,\n",
       "       0.        , 0.        , 0.        , 0.        , 0.        ,\n",
       "       0.        , 0.        , 0.        , 0.        , 0.        ,\n",
       "       0.        , 0.        , 0.        , 0.        , 0.        ,\n",
       "       0.        , 0.        , 0.        , 0.        , 0.        ,\n",
       "       0.        , 0.        , 0.        , 0.        ], dtype=float32)"
      ]
     },
     "execution_count": 22,
     "metadata": {},
     "output_type": "execute_result"
    }
   ],
   "source": [
    "imagens_decodificadas[0]"
   ]
  },
  {
   "cell_type": "code",
   "execution_count": 32,
   "metadata": {},
   "outputs": [
    {
     "data": {
      "text/plain": [
       "array([11040,  3873, 18453, 33781, 44487])"
      ]
     },
     "execution_count": 32,
     "metadata": {},
     "output_type": "execute_result"
    }
   ],
   "source": [
    "import numpy as np\n",
    "numero_imagens = 5\n",
    "imagens_teste = np.random.randint(X.shape[0], size = numero_imagens)\n",
    "imagens_teste"
   ]
  },
  {
   "cell_type": "code",
   "execution_count": 53,
   "metadata": {},
   "outputs": [
    {
     "data": {
      "image/png": "[encoded data removed]",
      "text/plain": [
       "<Figure size 1296x1296 with 15 Axes>"
      ]
     },
     "metadata": {},
     "output_type": "display_data"
    }
   ],
   "source": [
    "plt.figure(figsize = (18, 18))\n",
    "for i, indice_imagem in enumerate(imagens_teste):\n",
    "    #print(i)\n",
    "    #print(indice_imagem)\n",
    "    eixo = plt.subplot(10, 5, i + 1)\n",
    "    plt.imshow(X[indice_imagem].reshape(28, 28))\n",
    "    plt.xticks(())\n",
    "    plt.yticks(())\n",
    "    \n",
    "    eixo = plt.subplot(10, 5, i + 1 + numero_imagens)\n",
    "    plt.imshow(imagens_codificadas[indice_imagem].reshape(8, 8))\n",
    "    plt.xticks(())\n",
    "    plt.yticks(())\n",
    "    \n",
    "    eixo = plt.subplot(10, 5, i + 1 + numero_imagens * 2)\n",
    "    plt.imshow(imagens_decodificadas[indice_imagem].reshape(28, 28))\n",
    "    plt.xticks(())\n",
    "    plt.yticks(())\n",
    "    \n",
    "    "
   ]
  },
  {
   "cell_type": "code",
   "execution_count": null,
   "metadata": {},
   "outputs": [],
   "source": []
  },
  {
   "cell_type": "code",
   "execution_count": null,
   "metadata": {},
   "outputs": [],
   "source": []
  },
  {
   "cell_type": "code",
   "execution_count": null,
   "metadata": {},
   "outputs": [],
   "source": []
  },
  {
   "cell_type": "code",
   "execution_count": null,
   "metadata": {},
   "outputs": [],
   "source": []
  },
  {
   "cell_type": "code",
   "execution_count": null,
   "metadata": {},
   "outputs": [],
   "source": []
  }
 ],
 "metadata": {
  "kernelspec": {
   "display_name": "Python 3",
   "language": "python",
   "name": "python3"
  },
  "language_info": {
   "codemirror_mode": {
    "name": "ipython",
    "version": 3
   },
   "file_extension": ".py",
   "mimetype": "text/x-python",
   "name": "python",
   "nbconvert_exporter": "python",
   "pygments_lexer": "ipython3",
   "version": "3.6.5"
  }
 },
 "nbformat": 4,
 "nbformat_minor": 2
}
