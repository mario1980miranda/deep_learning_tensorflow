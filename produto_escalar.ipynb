{
 "cells": [
  {
   "cell_type": "code",
   "execution_count": 1,
   "metadata": {},
   "outputs": [],
   "source": [
    "import tensorflow as tf"
   ]
  },
  {
   "cell_type": "code",
   "execution_count": 8,
   "metadata": {},
   "outputs": [],
   "source": [
    "a = tf.constant([[-1.0,7.0,5.0]], name = 'entradas')\n",
    "b = tf.constant([[0.8,0.1,0.0]], name = 'pesos')\n",
    "multiplicacao = tf.multiply(a, b)\n",
    "soma = tf.reduce_sum(multiplicacao)"
   ]
  },
  {
   "cell_type": "code",
   "execution_count": 9,
   "metadata": {},
   "outputs": [
    {
     "name": "stdout",
     "output_type": "stream",
     "text": [
      "[[-1.  7.  5.]]\n",
      "\n",
      "\n",
      "[[0.8 0.1 0. ]]\n",
      "\n",
      "\n",
      "[[-0.8  0.7  0. ]]\n",
      "-0.100000024\n"
     ]
    }
   ],
   "source": [
    "with tf.Session() as session:\n",
    "    print(session.run(a))\n",
    "    print('\\n')\n",
    "    print(session.run(b))\n",
    "    print('\\n')\n",
    "    print(session.run(multiplicacao))\n",
    "    print(session.run(soma))"
   ]
  },
  {
   "cell_type": "code",
   "execution_count": null,
   "metadata": {},
   "outputs": [],
   "source": []
  }
 ],
 "metadata": {
  "kernelspec": {
   "display_name": "Python 3",
   "language": "python",
   "name": "python3"
  },
  "language_info": {
   "codemirror_mode": {
    "name": "ipython",
    "version": 3
   },
   "file_extension": ".py",
   "mimetype": "text/x-python",
   "name": "python",
   "nbconvert_exporter": "python",
   "pygments_lexer": "ipython3",
   "version": "3.6.8"
  }
 },
 "nbformat": 4,
 "nbformat_minor": 2
}
