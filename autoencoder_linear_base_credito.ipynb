{
 "cells": [
  {
   "cell_type": "code",
   "execution_count": 40,
   "metadata": {},
   "outputs": [
    {
     "data": {
      "text/html": [
       "<div>\n",
       "<style scoped>\n",
       "    .dataframe tbody tr th:only-of-type {\n",
       "        vertical-align: middle;\n",
       "    }\n",
       "\n",
       "    .dataframe tbody tr th {\n",
       "        vertical-align: top;\n",
       "    }\n",
       "\n",
       "    .dataframe thead th {\n",
       "        text-align: right;\n",
       "    }\n",
       "</style>\n",
       "<table border=\"1\" class=\"dataframe\">\n",
       "  <thead>\n",
       "    <tr style=\"text-align: right;\">\n",
       "      <th></th>\n",
       "      <th>income</th>\n",
       "      <th>age</th>\n",
       "      <th>loan</th>\n",
       "    </tr>\n",
       "  </thead>\n",
       "  <tbody>\n",
       "    <tr>\n",
       "      <th>0</th>\n",
       "      <td>1.453898</td>\n",
       "      <td>1.336861</td>\n",
       "      <td>1.201907</td>\n",
       "    </tr>\n",
       "    <tr>\n",
       "      <th>1</th>\n",
       "      <td>-0.762398</td>\n",
       "      <td>0.536639</td>\n",
       "      <td>0.695744</td>\n",
       "    </tr>\n",
       "    <tr>\n",
       "      <th>2</th>\n",
       "      <td>0.836733</td>\n",
       "      <td>1.637207</td>\n",
       "      <td>1.173812</td>\n",
       "    </tr>\n",
       "    <tr>\n",
       "      <th>3</th>\n",
       "      <td>-0.183244</td>\n",
       "      <td>0.362998</td>\n",
       "      <td>0.544366</td>\n",
       "    </tr>\n",
       "    <tr>\n",
       "      <th>4</th>\n",
       "      <td>1.509532</td>\n",
       "      <td>-1.631534</td>\n",
       "      <td>1.419754</td>\n",
       "    </tr>\n",
       "  </tbody>\n",
       "</table>\n",
       "</div>"
      ],
      "text/plain": [
       "     income       age      loan\n",
       "0  1.453898  1.336861  1.201907\n",
       "1 -0.762398  0.536639  0.695744\n",
       "2  0.836733  1.637207  1.173812\n",
       "3 -0.183244  0.362998  0.544366\n",
       "4  1.509532 -1.631534  1.419754"
      ]
     },
     "execution_count": 40,
     "metadata": {},
     "output_type": "execute_result"
    }
   ],
   "source": [
    "import pandas as pd\n",
    "base = pd.read_csv('credit_data.csv')\n",
    "base = base.drop('i#clientid', axis = 1)\n",
    "base = base.dropna()\n",
    "from sklearn.preprocessing import StandardScaler\n",
    "scaler_x = StandardScaler()\n",
    "base[['income', 'age', 'loan']] = scaler_x.fit_transform(base[['income', 'age', 'loan']])\n",
    "X = base.drop('c#default', axis = 1)\n",
    "y = base['c#default']\n",
    "X.head()"
   ]
  },
  {
   "cell_type": "code",
   "execution_count": 41,
   "metadata": {},
   "outputs": [],
   "source": [
    "neuronios_entrada = 3\n",
    "neuronios_oculta = 2\n",
    "neuronios_saida = neuronios_entrada\n",
    "# 3 -> 2 -> 3"
   ]
  },
  {
   "cell_type": "code",
   "execution_count": 42,
   "metadata": {},
   "outputs": [],
   "source": [
    "import tensorflow as tf"
   ]
  },
  {
   "cell_type": "code",
   "execution_count": 43,
   "metadata": {},
   "outputs": [],
   "source": [
    "xph = tf.placeholder(tf.float32, shape = [None, neuronios_entrada])"
   ]
  },
  {
   "cell_type": "code",
   "execution_count": 44,
   "metadata": {},
   "outputs": [],
   "source": [
    "from tensorflow.contrib.layers import fully_connected\n",
    "camada_oculta = fully_connected(inputs = xph, num_outputs = neuronios_oculta, activation_fn = None)\n",
    "camada_saida = fully_connected(inputs = camada_oculta, num_outputs = neuronios_saida)"
   ]
  },
  {
   "cell_type": "code",
   "execution_count": 45,
   "metadata": {},
   "outputs": [],
   "source": [
    "erro = tf.losses.mean_squared_error(labels = xph, predictions = camada_saida)\n",
    "otimizador = tf.train.AdamOptimizer(0.01)\n",
    "treinamento = otimizador.minimize(erro)"
   ]
  },
  {
   "cell_type": "code",
   "execution_count": 46,
   "metadata": {},
   "outputs": [
    {
     "name": "stdout",
     "output_type": "stream",
     "text": [
      "erro: 1.822283\n",
      "erro: 0.6850898\n",
      "erro: 0.6190646\n",
      "erro: 0.6165702\n",
      "erro: 0.6158049\n",
      "erro: 0.6155921\n",
      "erro: 0.61549306\n",
      "erro: 0.6151795\n",
      "erro: 0.6147627\n",
      "erro: 0.61437577\n"
     ]
    }
   ],
   "source": [
    "with tf.Session() as sess:\n",
    "    sess.run(tf.global_variables_initializer())\n",
    "    for epoca in range(1000):\n",
    "        custo, _ = sess.run([erro, treinamento], feed_dict = {xph: X})\n",
    "        if epoca % 100 == 0:\n",
    "            print('erro: ' + str(custo))\n",
    "    X2d_encode = sess.run(camada_oculta, feed_dict = {xph: X})\n",
    "    X3d_decode = sess.run(camada_saida, feed_dict = {xph: X})"
   ]
  },
  {
   "cell_type": "code",
   "execution_count": 47,
   "metadata": {},
   "outputs": [
    {
     "data": {
      "text/plain": [
       "(1997, 2)"
      ]
     },
     "execution_count": 47,
     "metadata": {},
     "output_type": "execute_result"
    }
   ],
   "source": [
    "X2d_encode.shape"
   ]
  },
  {
   "cell_type": "code",
   "execution_count": 48,
   "metadata": {},
   "outputs": [
    {
     "data": {
      "text/plain": [
       "(1997, 3)"
      ]
     },
     "execution_count": 48,
     "metadata": {},
     "output_type": "execute_result"
    }
   ],
   "source": [
    "X3d_decode.shape"
   ]
  },
  {
   "cell_type": "code",
   "execution_count": 49,
   "metadata": {},
   "outputs": [
    {
     "data": {
      "text/plain": [
       "array([[6.61559251e+04, 5.90170151e+01, 8.10653213e+03],\n",
       "       [3.44151540e+04, 4.81171531e+01, 6.56474502e+03],\n",
       "       [5.73171701e+04, 6.31080495e+01, 8.02095330e+03],\n",
       "       ...,\n",
       "       [4.43114493e+04, 2.80171669e+01, 5.52278669e+03],\n",
       "       [4.37560566e+04, 6.39717958e+01, 1.62272260e+03],\n",
       "       [6.94365796e+04, 5.61526170e+01, 7.37883360e+03]])"
      ]
     },
     "execution_count": 49,
     "metadata": {},
     "output_type": "execute_result"
    }
   ],
   "source": [
    "X2 = scaler_x.inverse_transform(X)\n",
    "X2"
   ]
  },
  {
   "cell_type": "code",
   "execution_count": 50,
   "metadata": {},
   "outputs": [
    {
     "data": {
      "text/plain": [
       "array([[6.8575930e+04, 4.0807560e+01, 6.5928110e+03],\n",
       "       [4.5333863e+04, 4.0807560e+01, 4.4454878e+03],\n",
       "       [6.0801395e+04, 4.0807560e+01, 5.6168853e+03],\n",
       "       ...,\n",
       "       [4.5333863e+04, 4.0807560e+01, 6.0554517e+03],\n",
       "       [4.6186484e+04, 5.8964218e+01, 4.4454878e+03],\n",
       "       [7.1049211e+04, 4.0807560e+01, 6.5309468e+03]], dtype=float32)"
      ]
     },
     "execution_count": 50,
     "metadata": {},
     "output_type": "execute_result"
    }
   ],
   "source": [
    "X3d_decode2 = scaler_x.inverse_transform(X3d_decode)\n",
    "X3d_decode2"
   ]
  },
  {
   "cell_type": "code",
   "execution_count": 51,
   "metadata": {},
   "outputs": [
    {
     "data": {
      "text/plain": [
       "7076.3921286381"
      ]
     },
     "execution_count": 51,
     "metadata": {},
     "output_type": "execute_result"
    }
   ],
   "source": [
    "from sklearn.metrics import mean_absolute_error\n",
    "mae_income = mean_absolute_error(X2[:,0], X3d_decode2[:,0])\n",
    "mae_income"
   ]
  },
  {
   "cell_type": "code",
   "execution_count": 52,
   "metadata": {},
   "outputs": [
    {
     "data": {
      "text/plain": [
       "10.078172138235011"
      ]
     },
     "execution_count": 52,
     "metadata": {},
     "output_type": "execute_result"
    }
   ],
   "source": [
    "mae_age = mean_absolute_error(X2[:,1], X3d_decode2[:,1])\n",
    "mae_age"
   ]
  },
  {
   "cell_type": "code",
   "execution_count": 53,
   "metadata": {},
   "outputs": [
    {
     "data": {
      "text/plain": [
       "1784.8301553867298"
      ]
     },
     "execution_count": 53,
     "metadata": {},
     "output_type": "execute_result"
    }
   ],
   "source": [
    "mae_loan = mean_absolute_error(X2[:,2], X3d_decode2[:,2])\n",
    "mae_loan"
   ]
  },
  {
   "cell_type": "code",
   "execution_count": 54,
   "metadata": {},
   "outputs": [],
   "source": [
    "X_encode = pd.DataFrame({'atributo1': X2d_encode[:,0], 'atributo2': X2d_encode[:,1], 'classe': y})"
   ]
  },
  {
   "cell_type": "code",
   "execution_count": 55,
   "metadata": {},
   "outputs": [
    {
     "data": {
      "text/html": [
       "<div>\n",
       "<style scoped>\n",
       "    .dataframe tbody tr th:only-of-type {\n",
       "        vertical-align: middle;\n",
       "    }\n",
       "\n",
       "    .dataframe tbody tr th {\n",
       "        vertical-align: top;\n",
       "    }\n",
       "\n",
       "    .dataframe thead th {\n",
       "        text-align: right;\n",
       "    }\n",
       "</style>\n",
       "<table border=\"1\" class=\"dataframe\">\n",
       "  <thead>\n",
       "    <tr style=\"text-align: right;\">\n",
       "      <th></th>\n",
       "      <th>atributo1</th>\n",
       "      <th>atributo2</th>\n",
       "      <th>classe</th>\n",
       "    </tr>\n",
       "  </thead>\n",
       "  <tbody>\n",
       "    <tr>\n",
       "      <th>0</th>\n",
       "      <td>1.486158</td>\n",
       "      <td>1.373214</td>\n",
       "      <td>0</td>\n",
       "    </tr>\n",
       "    <tr>\n",
       "      <th>1</th>\n",
       "      <td>-0.161346</td>\n",
       "      <td>-1.120568</td>\n",
       "      <td>0</td>\n",
       "    </tr>\n",
       "    <tr>\n",
       "      <th>2</th>\n",
       "      <td>0.934117</td>\n",
       "      <td>0.843253</td>\n",
       "      <td>0</td>\n",
       "    </tr>\n",
       "    <tr>\n",
       "      <th>3</th>\n",
       "      <td>0.187720</td>\n",
       "      <td>-0.523579</td>\n",
       "      <td>0</td>\n",
       "    </tr>\n",
       "    <tr>\n",
       "      <th>4</th>\n",
       "      <td>2.692830</td>\n",
       "      <td>0.218876</td>\n",
       "      <td>1</td>\n",
       "    </tr>\n",
       "  </tbody>\n",
       "</table>\n",
       "</div>"
      ],
      "text/plain": [
       "   atributo1  atributo2  classe\n",
       "0   1.486158   1.373214       0\n",
       "1  -0.161346  -1.120568       0\n",
       "2   0.934117   0.843253       0\n",
       "3   0.187720  -0.523579       0\n",
       "4   2.692830   0.218876       1"
      ]
     },
     "execution_count": 55,
     "metadata": {},
     "output_type": "execute_result"
    }
   ],
   "source": [
    "X_encode.head()"
   ]
  },
  {
   "cell_type": "code",
   "execution_count": 56,
   "metadata": {},
   "outputs": [
    {
     "name": "stdout",
     "output_type": "stream",
     "text": [
      "INFO:tensorflow:Using default config.\n",
      "WARNING:tensorflow:Using temporary folder as model directory: /var/folders/7f/wlmrltf57q95bdd5fl85dpw40000gn/T/tmpiup4xlcq\n",
      "INFO:tensorflow:Using config: {'_model_dir': '/var/folders/7f/wlmrltf57q95bdd5fl85dpw40000gn/T/tmpiup4xlcq', '_tf_random_seed': None, '_save_summary_steps': 100, '_save_checkpoints_steps': None, '_save_checkpoints_secs': 600, '_session_config': allow_soft_placement: true\n",
      "graph_options {\n",
      "  rewrite_options {\n",
      "    meta_optimizer_iterations: ONE\n",
      "  }\n",
      "}\n",
      ", '_keep_checkpoint_max': 5, '_keep_checkpoint_every_n_hours': 10000, '_log_step_count_steps': 100, '_train_distribute': None, '_device_fn': None, '_protocol': None, '_eval_distribute': None, '_experimental_distribute': None, '_service': None, '_cluster_spec': <tensorflow.python.training.server_lib.ClusterSpec object at 0x1c35681208>, '_task_type': 'worker', '_task_id': 0, '_global_id_in_cluster': 0, '_master': '', '_evaluation_master': '', '_is_chief': True, '_num_ps_replicas': 0, '_num_worker_replicas': 1}\n",
      "INFO:tensorflow:Calling model_fn.\n",
      "INFO:tensorflow:Done calling model_fn.\n",
      "INFO:tensorflow:Create CheckpointSaverHook.\n",
      "INFO:tensorflow:Graph was finalized.\n",
      "INFO:tensorflow:Running local_init_op.\n",
      "INFO:tensorflow:Done running local_init_op.\n",
      "INFO:tensorflow:Saving checkpoints for 0 into /var/folders/7f/wlmrltf57q95bdd5fl85dpw40000gn/T/tmpiup4xlcq/model.ckpt.\n",
      "INFO:tensorflow:loss = 5.7750974, step = 1\n",
      "INFO:tensorflow:global_step/sec: 444.073\n",
      "INFO:tensorflow:loss = 0.29455817, step = 101 (0.228 sec)\n",
      "INFO:tensorflow:global_step/sec: 629.136\n",
      "INFO:tensorflow:loss = 0.20971414, step = 201 (0.159 sec)\n",
      "INFO:tensorflow:global_step/sec: 593.472\n",
      "INFO:tensorflow:loss = 0.75551367, step = 301 (0.169 sec)\n",
      "INFO:tensorflow:global_step/sec: 631.792\n",
      "INFO:tensorflow:loss = 0.034614515, step = 401 (0.159 sec)\n",
      "INFO:tensorflow:global_step/sec: 602.827\n",
      "INFO:tensorflow:loss = 0.065675765, step = 501 (0.163 sec)\n",
      "INFO:tensorflow:global_step/sec: 626.903\n",
      "INFO:tensorflow:loss = 0.047762487, step = 601 (0.160 sec)\n",
      "INFO:tensorflow:global_step/sec: 648.109\n",
      "INFO:tensorflow:loss = 0.04071337, step = 701 (0.154 sec)\n",
      "INFO:tensorflow:global_step/sec: 638.635\n",
      "INFO:tensorflow:loss = 0.007206595, step = 801 (0.157 sec)\n",
      "INFO:tensorflow:global_step/sec: 628.338\n",
      "INFO:tensorflow:loss = 0.0034117515, step = 901 (0.159 sec)\n",
      "INFO:tensorflow:Saving checkpoints for 1000 into /var/folders/7f/wlmrltf57q95bdd5fl85dpw40000gn/T/tmpiup4xlcq/model.ckpt.\n",
      "INFO:tensorflow:Loss for final step: 0.023097007.\n",
      "INFO:tensorflow:Calling model_fn.\n",
      "WARNING:tensorflow:Trapezoidal rule is known to produce incorrect PR-AUCs; please switch to \"careful_interpolation\" instead.\n",
      "WARNING:tensorflow:Trapezoidal rule is known to produce incorrect PR-AUCs; please switch to \"careful_interpolation\" instead.\n",
      "INFO:tensorflow:Done calling model_fn.\n",
      "INFO:tensorflow:Starting evaluation at 2018-11-21-23:24:10\n",
      "INFO:tensorflow:Graph was finalized.\n",
      "INFO:tensorflow:Restoring parameters from /var/folders/7f/wlmrltf57q95bdd5fl85dpw40000gn/T/tmpiup4xlcq/model.ckpt-1000\n",
      "INFO:tensorflow:Running local_init_op.\n",
      "INFO:tensorflow:Done running local_init_op.\n",
      "INFO:tensorflow:Evaluation [100/1000]\n",
      "INFO:tensorflow:Evaluation [200/1000]\n",
      "INFO:tensorflow:Evaluation [300/1000]\n",
      "INFO:tensorflow:Evaluation [400/1000]\n",
      "INFO:tensorflow:Evaluation [500/1000]\n",
      "INFO:tensorflow:Evaluation [600/1000]\n",
      "INFO:tensorflow:Evaluation [700/1000]\n",
      "INFO:tensorflow:Evaluation [800/1000]\n",
      "INFO:tensorflow:Evaluation [900/1000]\n",
      "INFO:tensorflow:Evaluation [1000/1000]\n",
      "INFO:tensorflow:Finished evaluation at 2018-11-21-23:24:12\n",
      "INFO:tensorflow:Saving dict for global step 1000: accuracy = 1.0, accuracy_baseline = 0.8635, auc = 1.0, auc_precision_recall = 1.0, average_loss = 0.0016968956, global_step = 1000, label/mean = 0.1365, loss = 0.013575165, precision = 1.0, prediction/mean = 0.13671768, recall = 1.0\n",
      "INFO:tensorflow:Saving 'checkpoint_path' summary for global step 1000: /var/folders/7f/wlmrltf57q95bdd5fl85dpw40000gn/T/tmpiup4xlcq/model.ckpt-1000\n"
     ]
    }
   ],
   "source": [
    "import tensorflow as tf\n",
    "colunas = [tf.feature_column.numeric_column(key = column) for column in X_encode.columns]\n",
    "from sklearn.model_selection import train_test_split\n",
    "X_treinamento, X_teste, y_treinamento, y_teste = train_test_split(X_encode, y, test_size = 0.3, random_state = 0)\n",
    "funcao_treinamento = tf.estimator.inputs.pandas_input_fn(x = X_treinamento,\n",
    "                                                        y = y_treinamento,\n",
    "                                                        batch_size = 8, \n",
    "                                                        num_epochs = None,\n",
    "                                                        shuffle = True)\n",
    "classificador = tf.estimator.DNNClassifier(feature_columns = colunas, hidden_units = [4, 4])\n",
    "classificador.train(input_fn = funcao_treinamento, steps = 1000)\n",
    "funcao_teste = tf.estimator.inputs.pandas_input_fn(x = X_teste, y = y_teste,\n",
    "                                              batch_size = 8, num_epochs = 1000,\n",
    "                                              shuffle = False)\n",
    "metricas_teste = classificador.evaluate(input_fn = funcao_teste, steps = 1000)"
   ]
  },
  {
   "cell_type": "code",
   "execution_count": 57,
   "metadata": {},
   "outputs": [
    {
     "data": {
      "text/plain": [
       "{'accuracy': 1.0,\n",
       " 'accuracy_baseline': 0.8635,\n",
       " 'auc': 1.0,\n",
       " 'auc_precision_recall': 1.0,\n",
       " 'average_loss': 0.0016968956,\n",
       " 'label/mean': 0.1365,\n",
       " 'loss': 0.013575165,\n",
       " 'precision': 1.0,\n",
       " 'prediction/mean': 0.13671768,\n",
       " 'recall': 1.0,\n",
       " 'global_step': 1000}"
      ]
     },
     "execution_count": 57,
     "metadata": {},
     "output_type": "execute_result"
    }
   ],
   "source": [
    "metricas_teste"
   ]
  },
  {
   "cell_type": "code",
   "execution_count": null,
   "metadata": {},
   "outputs": [],
   "source": []
  },
  {
   "cell_type": "code",
   "execution_count": null,
   "metadata": {},
   "outputs": [],
   "source": []
  },
  {
   "cell_type": "code",
   "execution_count": null,
   "metadata": {},
   "outputs": [],
   "source": []
  }
 ],
 "metadata": {
  "kernelspec": {
   "display_name": "Python 3",
   "language": "python",
   "name": "python3"
  },
  "language_info": {
   "codemirror_mode": {
    "name": "ipython",
    "version": 3
   },
   "file_extension": ".py",
   "mimetype": "text/x-python",
   "name": "python",
   "nbconvert_exporter": "python",
   "pygments_lexer": "ipython3",
   "version": "3.6.5"
  }
 },
 "nbformat": 4,
 "nbformat_minor": 2
}
