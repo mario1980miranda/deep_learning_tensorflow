{
 "cells": [
  {
   "cell_type": "code",
   "execution_count": 4,
   "metadata": {},
   "outputs": [
    {
     "data": {
      "text/html": [
       "<div>\n",
       "<style scoped>\n",
       "    .dataframe tbody tr th:only-of-type {\n",
       "        vertical-align: middle;\n",
       "    }\n",
       "\n",
       "    .dataframe tbody tr th {\n",
       "        vertical-align: top;\n",
       "    }\n",
       "\n",
       "    .dataframe thead th {\n",
       "        text-align: right;\n",
       "    }\n",
       "</style>\n",
       "<table border=\"1\" class=\"dataframe\">\n",
       "  <thead>\n",
       "    <tr style=\"text-align: right;\">\n",
       "      <th></th>\n",
       "      <th>id</th>\n",
       "      <th>date</th>\n",
       "      <th>price</th>\n",
       "      <th>bedrooms</th>\n",
       "      <th>bathrooms</th>\n",
       "      <th>sqft_living</th>\n",
       "      <th>sqft_lot</th>\n",
       "      <th>floors</th>\n",
       "      <th>waterfront</th>\n",
       "      <th>view</th>\n",
       "      <th>...</th>\n",
       "      <th>grade</th>\n",
       "      <th>sqft_above</th>\n",
       "      <th>sqft_basement</th>\n",
       "      <th>yr_built</th>\n",
       "      <th>yr_renovated</th>\n",
       "      <th>zipcode</th>\n",
       "      <th>lat</th>\n",
       "      <th>long</th>\n",
       "      <th>sqft_living15</th>\n",
       "      <th>sqft_lot15</th>\n",
       "    </tr>\n",
       "  </thead>\n",
       "  <tbody>\n",
       "    <tr>\n",
       "      <th>0</th>\n",
       "      <td>7129300520</td>\n",
       "      <td>20141013T000000</td>\n",
       "      <td>221900.0</td>\n",
       "      <td>3</td>\n",
       "      <td>1.00</td>\n",
       "      <td>1180</td>\n",
       "      <td>5650</td>\n",
       "      <td>1.0</td>\n",
       "      <td>0</td>\n",
       "      <td>0</td>\n",
       "      <td>...</td>\n",
       "      <td>7</td>\n",
       "      <td>1180</td>\n",
       "      <td>0</td>\n",
       "      <td>1955</td>\n",
       "      <td>0</td>\n",
       "      <td>98178</td>\n",
       "      <td>47.5112</td>\n",
       "      <td>-122.257</td>\n",
       "      <td>1340</td>\n",
       "      <td>5650</td>\n",
       "    </tr>\n",
       "    <tr>\n",
       "      <th>1</th>\n",
       "      <td>6414100192</td>\n",
       "      <td>20141209T000000</td>\n",
       "      <td>538000.0</td>\n",
       "      <td>3</td>\n",
       "      <td>2.25</td>\n",
       "      <td>2570</td>\n",
       "      <td>7242</td>\n",
       "      <td>2.0</td>\n",
       "      <td>0</td>\n",
       "      <td>0</td>\n",
       "      <td>...</td>\n",
       "      <td>7</td>\n",
       "      <td>2170</td>\n",
       "      <td>400</td>\n",
       "      <td>1951</td>\n",
       "      <td>1991</td>\n",
       "      <td>98125</td>\n",
       "      <td>47.7210</td>\n",
       "      <td>-122.319</td>\n",
       "      <td>1690</td>\n",
       "      <td>7639</td>\n",
       "    </tr>\n",
       "    <tr>\n",
       "      <th>2</th>\n",
       "      <td>5631500400</td>\n",
       "      <td>20150225T000000</td>\n",
       "      <td>180000.0</td>\n",
       "      <td>2</td>\n",
       "      <td>1.00</td>\n",
       "      <td>770</td>\n",
       "      <td>10000</td>\n",
       "      <td>1.0</td>\n",
       "      <td>0</td>\n",
       "      <td>0</td>\n",
       "      <td>...</td>\n",
       "      <td>6</td>\n",
       "      <td>770</td>\n",
       "      <td>0</td>\n",
       "      <td>1933</td>\n",
       "      <td>0</td>\n",
       "      <td>98028</td>\n",
       "      <td>47.7379</td>\n",
       "      <td>-122.233</td>\n",
       "      <td>2720</td>\n",
       "      <td>8062</td>\n",
       "    </tr>\n",
       "    <tr>\n",
       "      <th>3</th>\n",
       "      <td>2487200875</td>\n",
       "      <td>20141209T000000</td>\n",
       "      <td>604000.0</td>\n",
       "      <td>4</td>\n",
       "      <td>3.00</td>\n",
       "      <td>1960</td>\n",
       "      <td>5000</td>\n",
       "      <td>1.0</td>\n",
       "      <td>0</td>\n",
       "      <td>0</td>\n",
       "      <td>...</td>\n",
       "      <td>7</td>\n",
       "      <td>1050</td>\n",
       "      <td>910</td>\n",
       "      <td>1965</td>\n",
       "      <td>0</td>\n",
       "      <td>98136</td>\n",
       "      <td>47.5208</td>\n",
       "      <td>-122.393</td>\n",
       "      <td>1360</td>\n",
       "      <td>5000</td>\n",
       "    </tr>\n",
       "    <tr>\n",
       "      <th>4</th>\n",
       "      <td>1954400510</td>\n",
       "      <td>20150218T000000</td>\n",
       "      <td>510000.0</td>\n",
       "      <td>3</td>\n",
       "      <td>2.00</td>\n",
       "      <td>1680</td>\n",
       "      <td>8080</td>\n",
       "      <td>1.0</td>\n",
       "      <td>0</td>\n",
       "      <td>0</td>\n",
       "      <td>...</td>\n",
       "      <td>8</td>\n",
       "      <td>1680</td>\n",
       "      <td>0</td>\n",
       "      <td>1987</td>\n",
       "      <td>0</td>\n",
       "      <td>98074</td>\n",
       "      <td>47.6168</td>\n",
       "      <td>-122.045</td>\n",
       "      <td>1800</td>\n",
       "      <td>7503</td>\n",
       "    </tr>\n",
       "  </tbody>\n",
       "</table>\n",
       "<p>5 rows × 21 columns</p>\n",
       "</div>"
      ],
      "text/plain": [
       "           id             date     price  bedrooms  bathrooms  sqft_living  \\\n",
       "0  7129300520  20141013T000000  221900.0         3       1.00         1180   \n",
       "1  6414100192  20141209T000000  538000.0         3       2.25         2570   \n",
       "2  5631500400  20150225T000000  180000.0         2       1.00          770   \n",
       "3  2487200875  20141209T000000  604000.0         4       3.00         1960   \n",
       "4  1954400510  20150218T000000  510000.0         3       2.00         1680   \n",
       "\n",
       "   sqft_lot  floors  waterfront  view  ...  grade  sqft_above  sqft_basement  \\\n",
       "0      5650     1.0           0     0  ...      7        1180              0   \n",
       "1      7242     2.0           0     0  ...      7        2170            400   \n",
       "2     10000     1.0           0     0  ...      6         770              0   \n",
       "3      5000     1.0           0     0  ...      7        1050            910   \n",
       "4      8080     1.0           0     0  ...      8        1680              0   \n",
       "\n",
       "   yr_built  yr_renovated  zipcode      lat     long  sqft_living15  \\\n",
       "0      1955             0    98178  47.5112 -122.257           1340   \n",
       "1      1951          1991    98125  47.7210 -122.319           1690   \n",
       "2      1933             0    98028  47.7379 -122.233           2720   \n",
       "3      1965             0    98136  47.5208 -122.393           1360   \n",
       "4      1987             0    98074  47.6168 -122.045           1800   \n",
       "\n",
       "   sqft_lot15  \n",
       "0        5650  \n",
       "1        7639  \n",
       "2        8062  \n",
       "3        5000  \n",
       "4        7503  \n",
       "\n",
       "[5 rows x 21 columns]"
      ]
     },
     "execution_count": 4,
     "metadata": {},
     "output_type": "execute_result"
    }
   ],
   "source": [
    "import pandas as pd\n",
    "base = pd.read_csv('house-prices.csv')\n",
    "base.head()"
   ]
  },
  {
   "cell_type": "code",
   "execution_count": 5,
   "metadata": {},
   "outputs": [
    {
     "data": {
      "text/plain": [
       "(21613, 21)"
      ]
     },
     "execution_count": 5,
     "metadata": {},
     "output_type": "execute_result"
    }
   ],
   "source": [
    "base.shape"
   ]
  },
  {
   "cell_type": "code",
   "execution_count": 6,
   "metadata": {},
   "outputs": [],
   "source": [
    "x = base.iloc[:, 5:6].values\n",
    "y = base.iloc[:, 2:3].values"
   ]
  },
  {
   "cell_type": "code",
   "execution_count": 7,
   "metadata": {},
   "outputs": [
    {
     "data": {
      "text/plain": [
       "array([[1180],\n",
       "       [2570],\n",
       "       [ 770],\n",
       "       ...,\n",
       "       [1020],\n",
       "       [1600],\n",
       "       [1020]], dtype=int64)"
      ]
     },
     "execution_count": 7,
     "metadata": {},
     "output_type": "execute_result"
    }
   ],
   "source": [
    "x"
   ]
  },
  {
   "cell_type": "code",
   "execution_count": 8,
   "metadata": {},
   "outputs": [
    {
     "data": {
      "text/plain": [
       "array([[221900.],\n",
       "       [538000.],\n",
       "       [180000.],\n",
       "       ...,\n",
       "       [402101.],\n",
       "       [400000.],\n",
       "       [325000.]])"
      ]
     },
     "execution_count": 8,
     "metadata": {},
     "output_type": "execute_result"
    }
   ],
   "source": [
    "y"
   ]
  },
  {
   "cell_type": "code",
   "execution_count": 9,
   "metadata": {},
   "outputs": [
    {
     "name": "stderr",
     "output_type": "stream",
     "text": [
      "C:\\Users\\mario\\Anaconda3\\envs\\Tensorflow\\lib\\site-packages\\sklearn\\utils\\validation.py:595: DataConversionWarning: Data with input dtype int64 was converted to float64 by StandardScaler.\n",
      "  warnings.warn(msg, DataConversionWarning)\n",
      "C:\\Users\\mario\\Anaconda3\\envs\\Tensorflow\\lib\\site-packages\\sklearn\\utils\\validation.py:595: DataConversionWarning: Data with input dtype int64 was converted to float64 by StandardScaler.\n",
      "  warnings.warn(msg, DataConversionWarning)\n"
     ]
    }
   ],
   "source": [
    "from sklearn.preprocessing import StandardScaler\n",
    "scaler_x = StandardScaler()\n",
    "x = scaler_x.fit_transform(x)\n",
    "scaler_y = StandardScaler()\n",
    "y = scaler_y.fit_transform(y)"
   ]
  },
  {
   "cell_type": "code",
   "execution_count": 10,
   "metadata": {},
   "outputs": [
    {
     "data": {
      "text/plain": [
       "array([[-0.97983502],\n",
       "       [ 0.53363434],\n",
       "       [-1.42625404],\n",
       "       ...,\n",
       "       [-1.15404732],\n",
       "       [-0.52252773],\n",
       "       [-1.15404732]])"
      ]
     },
     "execution_count": 10,
     "metadata": {},
     "output_type": "execute_result"
    }
   ],
   "source": [
    "x"
   ]
  },
  {
   "cell_type": "code",
   "execution_count": 11,
   "metadata": {},
   "outputs": [
    {
     "data": {
      "text/plain": [
       "array([[-0.86671733],\n",
       "       [-0.00568792],\n",
       "       [-0.98084935],\n",
       "       ...,\n",
       "       [-0.37586519],\n",
       "       [-0.38158814],\n",
       "       [-0.58588173]])"
      ]
     },
     "execution_count": 11,
     "metadata": {},
     "output_type": "execute_result"
    }
   ],
   "source": [
    "y"
   ]
  },
  {
   "cell_type": "code",
   "execution_count": 12,
   "metadata": {},
   "outputs": [],
   "source": [
    "import tensorflow as tf"
   ]
  },
  {
   "cell_type": "code",
   "execution_count": 13,
   "metadata": {},
   "outputs": [],
   "source": [
    "colunas = [tf.feature_column.numeric_column('x', shape = [1])]"
   ]
  },
  {
   "cell_type": "code",
   "execution_count": 14,
   "metadata": {},
   "outputs": [
    {
     "data": {
      "text/plain": [
       "[NumericColumn(key='x', shape=(1,), default_value=None, dtype=tf.float32, normalizer_fn=None)]"
      ]
     },
     "execution_count": 14,
     "metadata": {},
     "output_type": "execute_result"
    }
   ],
   "source": [
    "colunas"
   ]
  },
  {
   "cell_type": "code",
   "execution_count": 15,
   "metadata": {},
   "outputs": [
    {
     "name": "stdout",
     "output_type": "stream",
     "text": [
      "INFO:tensorflow:Using default config.\n",
      "WARNING:tensorflow:Using temporary folder as model directory: C:\\Users\\mario\\AppData\\Local\\Temp\\tmp6ll369jp\n",
      "INFO:tensorflow:Using config: {'_model_dir': 'C:\\\\Users\\\\mario\\\\AppData\\\\Local\\\\Temp\\\\tmp6ll369jp', '_tf_random_seed': None, '_save_summary_steps': 100, '_save_checkpoints_steps': None, '_save_checkpoints_secs': 600, '_session_config': allow_soft_placement: true\n",
      "graph_options {\n",
      "  rewrite_options {\n",
      "    meta_optimizer_iterations: ONE\n",
      "  }\n",
      "}\n",
      ", '_keep_checkpoint_max': 5, '_keep_checkpoint_every_n_hours': 10000, '_log_step_count_steps': 100, '_train_distribute': None, '_device_fn': None, '_protocol': None, '_eval_distribute': None, '_experimental_distribute': None, '_service': None, '_cluster_spec': <tensorflow.python.training.server_lib.ClusterSpec object at 0x0000020773DB3A20>, '_task_type': 'worker', '_task_id': 0, '_global_id_in_cluster': 0, '_master': '', '_evaluation_master': '', '_is_chief': True, '_num_ps_replicas': 0, '_num_worker_replicas': 1}\n"
     ]
    }
   ],
   "source": [
    "regressor = tf.estimator.LinearRegressor(feature_columns=colunas)"
   ]
  },
  {
   "cell_type": "code",
   "execution_count": 16,
   "metadata": {},
   "outputs": [],
   "source": [
    "from sklearn.model_selection import train_test_split\n",
    "x_treinamento, x_teste, y_treinamento, y_teste = train_test_split(x, y, test_size = 0.3)"
   ]
  },
  {
   "cell_type": "code",
   "execution_count": 17,
   "metadata": {},
   "outputs": [
    {
     "data": {
      "text/plain": [
       "(15129, 1)"
      ]
     },
     "execution_count": 17,
     "metadata": {},
     "output_type": "execute_result"
    }
   ],
   "source": [
    "x_treinamento.shape"
   ]
  },
  {
   "cell_type": "code",
   "execution_count": 18,
   "metadata": {},
   "outputs": [
    {
     "data": {
      "text/plain": [
       "(6484, 1)"
      ]
     },
     "execution_count": 18,
     "metadata": {},
     "output_type": "execute_result"
    }
   ],
   "source": [
    "x_teste.shape"
   ]
  },
  {
   "cell_type": "code",
   "execution_count": 19,
   "metadata": {},
   "outputs": [
    {
     "data": {
      "text/plain": [
       "(15129, 1)"
      ]
     },
     "execution_count": 19,
     "metadata": {},
     "output_type": "execute_result"
    }
   ],
   "source": [
    "y_treinamento.shape"
   ]
  },
  {
   "cell_type": "code",
   "execution_count": 20,
   "metadata": {},
   "outputs": [
    {
     "data": {
      "text/plain": [
       "(6484, 1)"
      ]
     },
     "execution_count": 20,
     "metadata": {},
     "output_type": "execute_result"
    }
   ],
   "source": [
    "y_teste.shape"
   ]
  },
  {
   "cell_type": "code",
   "execution_count": 23,
   "metadata": {},
   "outputs": [],
   "source": [
    "funcao_treinamento = tf.estimator.inputs.numpy_input_fn({'x':x_treinamento}, y_treinamento, batch_size=32, num_epochs=None, shuffle=True)"
   ]
  },
  {
   "cell_type": "code",
   "execution_count": 24,
   "metadata": {},
   "outputs": [],
   "source": [
    "funcao_teste = tf.estimator.inputs.numpy_input_fn({'x': x_teste}, y_teste, batch_size=32, num_epochs=1000, shuffle=False)"
   ]
  },
  {
   "cell_type": "code",
   "execution_count": 25,
   "metadata": {},
   "outputs": [
    {
     "name": "stdout",
     "output_type": "stream",
     "text": [
      "WARNING:tensorflow:From C:\\Users\\mario\\Anaconda3\\envs\\Tensorflow\\lib\\site-packages\\tensorflow_estimator\\python\\estimator\\inputs\\queues\\feeding_queue_runner.py:62: QueueRunner.__init__ (from tensorflow.python.training.queue_runner_impl) is deprecated and will be removed in a future version.\n",
      "Instructions for updating:\n",
      "To construct input pipelines, use the `tf.data` module.\n",
      "WARNING:tensorflow:From C:\\Users\\mario\\Anaconda3\\envs\\Tensorflow\\lib\\site-packages\\tensorflow_estimator\\python\\estimator\\inputs\\queues\\feeding_functions.py:500: add_queue_runner (from tensorflow.python.training.queue_runner_impl) is deprecated and will be removed in a future version.\n",
      "Instructions for updating:\n",
      "To construct input pipelines, use the `tf.data` module.\n",
      "INFO:tensorflow:Calling model_fn.\n",
      "WARNING:tensorflow:From C:\\Users\\mario\\Anaconda3\\envs\\Tensorflow\\lib\\site-packages\\tensorflow\\python\\feature_column\\feature_column_v2.py:2703: to_float (from tensorflow.python.ops.math_ops) is deprecated and will be removed in a future version.\n",
      "Instructions for updating:\n",
      "Use tf.cast instead.\n",
      "INFO:tensorflow:Done calling model_fn.\n",
      "INFO:tensorflow:Create CheckpointSaverHook.\n",
      "INFO:tensorflow:Graph was finalized.\n",
      "INFO:tensorflow:Running local_init_op.\n",
      "INFO:tensorflow:Done running local_init_op.\n",
      "WARNING:tensorflow:From C:\\Users\\mario\\Anaconda3\\envs\\Tensorflow\\lib\\site-packages\\tensorflow\\python\\training\\monitored_session.py:809: start_queue_runners (from tensorflow.python.training.queue_runner_impl) is deprecated and will be removed in a future version.\n",
      "Instructions for updating:\n",
      "To construct input pipelines, use the `tf.data` module.\n",
      "INFO:tensorflow:Saving checkpoints for 0 into C:\\Users\\mario\\AppData\\Local\\Temp\\tmp6ll369jp\\model.ckpt.\n",
      "INFO:tensorflow:loss = 77.12207, step = 1\n",
      "INFO:tensorflow:global_step/sec: 1332.13\n",
      "INFO:tensorflow:loss = 9.143672, step = 101 (0.076 sec)\n",
      "INFO:tensorflow:global_step/sec: 1998.21\n",
      "INFO:tensorflow:loss = 10.340281, step = 201 (0.049 sec)\n",
      "INFO:tensorflow:global_step/sec: 2171.99\n",
      "INFO:tensorflow:loss = 11.544031, step = 301 (0.047 sec)\n",
      "INFO:tensorflow:global_step/sec: 2270.7\n",
      "INFO:tensorflow:loss = 16.27483, step = 401 (0.044 sec)\n",
      "INFO:tensorflow:global_step/sec: 2172\n",
      "INFO:tensorflow:loss = 16.980747, step = 501 (0.045 sec)\n",
      "INFO:tensorflow:global_step/sec: 2125.76\n",
      "INFO:tensorflow:loss = 14.267529, step = 601 (0.047 sec)\n",
      "INFO:tensorflow:global_step/sec: 1850.16\n",
      "INFO:tensorflow:loss = 31.66446, step = 701 (0.055 sec)\n",
      "INFO:tensorflow:global_step/sec: 2081.48\n",
      "INFO:tensorflow:loss = 15.22153, step = 801 (0.047 sec)\n",
      "INFO:tensorflow:global_step/sec: 2125.8\n",
      "INFO:tensorflow:loss = 8.449116, step = 901 (0.047 sec)\n",
      "INFO:tensorflow:global_step/sec: 2125.73\n",
      "INFO:tensorflow:loss = 16.002739, step = 1001 (0.048 sec)\n",
      "INFO:tensorflow:global_step/sec: 1885.11\n",
      "INFO:tensorflow:loss = 10.976039, step = 1101 (0.052 sec)\n",
      "INFO:tensorflow:global_step/sec: 2220.23\n",
      "INFO:tensorflow:loss = 12.85659, step = 1201 (0.046 sec)\n",
      "INFO:tensorflow:global_step/sec: 2323.52\n",
      "INFO:tensorflow:loss = 13.231538, step = 1301 (0.043 sec)\n",
      "INFO:tensorflow:global_step/sec: 2171.98\n",
      "INFO:tensorflow:loss = 11.432072, step = 1401 (0.046 sec)\n",
      "INFO:tensorflow:global_step/sec: 2125.72\n",
      "INFO:tensorflow:loss = 9.727493, step = 1501 (0.046 sec)\n",
      "INFO:tensorflow:global_step/sec: 2220.25\n",
      "INFO:tensorflow:loss = 8.783618, step = 1601 (0.046 sec)\n",
      "INFO:tensorflow:global_step/sec: 2220.22\n",
      "INFO:tensorflow:loss = 7.7639256, step = 1701 (0.044 sec)\n",
      "INFO:tensorflow:global_step/sec: 1998.18\n",
      "INFO:tensorflow:loss = 10.030746, step = 1801 (0.050 sec)\n",
      "INFO:tensorflow:global_step/sec: 2125.82\n",
      "INFO:tensorflow:loss = 12.4248905, step = 1901 (0.048 sec)\n",
      "INFO:tensorflow:global_step/sec: 2220.25\n",
      "INFO:tensorflow:loss = 36.08804, step = 2001 (0.044 sec)\n",
      "INFO:tensorflow:global_step/sec: 1998.2\n",
      "INFO:tensorflow:loss = 19.806576, step = 2101 (0.051 sec)\n",
      "INFO:tensorflow:global_step/sec: 1959.02\n",
      "INFO:tensorflow:loss = 9.62749, step = 2201 (0.050 sec)\n",
      "INFO:tensorflow:global_step/sec: 2220.23\n",
      "INFO:tensorflow:loss = 12.345562, step = 2301 (0.045 sec)\n",
      "INFO:tensorflow:global_step/sec: 2125.75\n",
      "INFO:tensorflow:loss = 10.144965, step = 2401 (0.047 sec)\n",
      "INFO:tensorflow:global_step/sec: 2081.47\n",
      "INFO:tensorflow:loss = 13.702379, step = 2501 (0.048 sec)\n",
      "INFO:tensorflow:global_step/sec: 2220.29\n",
      "INFO:tensorflow:loss = 10.213354, step = 2601 (0.046 sec)\n",
      "INFO:tensorflow:global_step/sec: 1816.53\n",
      "INFO:tensorflow:loss = 20.832506, step = 2701 (0.054 sec)\n",
      "INFO:tensorflow:global_step/sec: 1850.22\n",
      "INFO:tensorflow:loss = 11.604156, step = 2801 (0.054 sec)\n",
      "INFO:tensorflow:global_step/sec: 1885.1\n",
      "INFO:tensorflow:loss = 12.331025, step = 2901 (0.053 sec)\n",
      "INFO:tensorflow:global_step/sec: 1921.35\n",
      "INFO:tensorflow:loss = 8.251684, step = 3001 (0.053 sec)\n",
      "INFO:tensorflow:global_step/sec: 1921.37\n",
      "INFO:tensorflow:loss = 9.204876, step = 3101 (0.052 sec)\n",
      "INFO:tensorflow:global_step/sec: 2171.99\n",
      "INFO:tensorflow:loss = 48.271587, step = 3201 (0.045 sec)\n",
      "INFO:tensorflow:global_step/sec: 1885.11\n",
      "INFO:tensorflow:loss = 6.655835, step = 3301 (0.054 sec)\n",
      "INFO:tensorflow:global_step/sec: 2171.89\n",
      "INFO:tensorflow:loss = 18.28579, step = 3401 (0.045 sec)\n",
      "INFO:tensorflow:global_step/sec: 2172.04\n",
      "INFO:tensorflow:loss = 6.6579013, step = 3501 (0.047 sec)\n",
      "INFO:tensorflow:global_step/sec: 1752.83\n",
      "INFO:tensorflow:loss = 17.177313, step = 3601 (0.056 sec)\n",
      "INFO:tensorflow:global_step/sec: 2171.97\n",
      "INFO:tensorflow:loss = 6.4928694, step = 3701 (0.047 sec)\n",
      "INFO:tensorflow:global_step/sec: 2171.94\n",
      "INFO:tensorflow:loss = 8.060158, step = 3801 (0.045 sec)\n",
      "INFO:tensorflow:global_step/sec: 2171.94\n",
      "INFO:tensorflow:loss = 4.573956, step = 3901 (0.046 sec)\n",
      "INFO:tensorflow:global_step/sec: 1998.25\n",
      "INFO:tensorflow:loss = 7.7173963, step = 4001 (0.051 sec)\n",
      "INFO:tensorflow:global_step/sec: 1998.21\n",
      "INFO:tensorflow:loss = 7.5301313, step = 4101 (0.049 sec)\n",
      "INFO:tensorflow:global_step/sec: 2038.99\n",
      "INFO:tensorflow:loss = 14.839886, step = 4201 (0.049 sec)\n",
      "INFO:tensorflow:global_step/sec: 2270.71\n",
      "INFO:tensorflow:loss = 6.5399346, step = 4301 (0.044 sec)\n",
      "INFO:tensorflow:global_step/sec: 2125.78\n",
      "INFO:tensorflow:loss = 9.327335, step = 4401 (0.047 sec)\n",
      "INFO:tensorflow:global_step/sec: 2038.95\n",
      "INFO:tensorflow:loss = 21.334364, step = 4501 (0.049 sec)\n",
      "INFO:tensorflow:global_step/sec: 2125.79\n",
      "INFO:tensorflow:loss = 11.465798, step = 4601 (0.047 sec)\n",
      "INFO:tensorflow:global_step/sec: 2220.21\n",
      "INFO:tensorflow:loss = 6.79352, step = 4701 (0.046 sec)\n",
      "INFO:tensorflow:global_step/sec: 2125.81\n",
      "INFO:tensorflow:loss = 12.186115, step = 4801 (0.047 sec)\n",
      "INFO:tensorflow:global_step/sec: 2171.94\n",
      "INFO:tensorflow:loss = 10.758779, step = 4901 (0.046 sec)\n",
      "INFO:tensorflow:global_step/sec: 2125.74\n",
      "INFO:tensorflow:loss = 10.6397505, step = 5001 (0.046 sec)\n",
      "INFO:tensorflow:global_step/sec: 2270.7\n",
      "INFO:tensorflow:loss = 10.314454, step = 5101 (0.045 sec)\n",
      "INFO:tensorflow:global_step/sec: 2038.99\n",
      "INFO:tensorflow:loss = 5.432857, step = 5201 (0.049 sec)\n",
      "INFO:tensorflow:global_step/sec: 2039.02\n",
      "INFO:tensorflow:loss = 25.574951, step = 5301 (0.048 sec)\n",
      "INFO:tensorflow:global_step/sec: 1921.31\n",
      "INFO:tensorflow:loss = 18.554445, step = 5401 (0.052 sec)\n",
      "INFO:tensorflow:global_step/sec: 2039.02\n",
      "INFO:tensorflow:loss = 11.301592, step = 5501 (0.049 sec)\n",
      "INFO:tensorflow:global_step/sec: 1959.07\n",
      "INFO:tensorflow:loss = 14.806394, step = 5601 (0.051 sec)\n",
      "INFO:tensorflow:global_step/sec: 1959.03\n",
      "INFO:tensorflow:loss = 8.506751, step = 5701 (0.051 sec)\n",
      "INFO:tensorflow:global_step/sec: 2038.98\n",
      "INFO:tensorflow:loss = 8.195459, step = 5801 (0.049 sec)\n",
      "INFO:tensorflow:global_step/sec: 1850.18\n",
      "INFO:tensorflow:loss = 6.5254993, step = 5901 (0.054 sec)\n",
      "INFO:tensorflow:global_step/sec: 1959.04\n",
      "INFO:tensorflow:loss = 43.523834, step = 6001 (0.051 sec)\n",
      "INFO:tensorflow:global_step/sec: 2081.49\n",
      "INFO:tensorflow:loss = 7.2275825, step = 6101 (0.048 sec)\n",
      "INFO:tensorflow:global_step/sec: 1885.09\n",
      "INFO:tensorflow:loss = 29.332916, step = 6201 (0.054 sec)\n",
      "INFO:tensorflow:global_step/sec: 2171.99\n",
      "INFO:tensorflow:loss = 9.068459, step = 6301 (0.046 sec)\n",
      "INFO:tensorflow:global_step/sec: 2125.73\n",
      "INFO:tensorflow:loss = 5.1348286, step = 6401 (0.046 sec)\n",
      "INFO:tensorflow:global_step/sec: 2125.81\n",
      "INFO:tensorflow:loss = 34.39231, step = 6501 (0.048 sec)\n"
     ]
    },
    {
     "name": "stdout",
     "output_type": "stream",
     "text": [
      "INFO:tensorflow:global_step/sec: 1959.02\n",
      "INFO:tensorflow:loss = 8.741579, step = 6601 (0.051 sec)\n",
      "INFO:tensorflow:global_step/sec: 1998.2\n",
      "INFO:tensorflow:loss = 13.824682, step = 6701 (0.050 sec)\n",
      "INFO:tensorflow:global_step/sec: 2081.51\n",
      "INFO:tensorflow:loss = 8.780927, step = 6801 (0.048 sec)\n",
      "INFO:tensorflow:global_step/sec: 2220.2\n",
      "INFO:tensorflow:loss = 17.393559, step = 6901 (0.045 sec)\n",
      "INFO:tensorflow:global_step/sec: 1998.23\n",
      "INFO:tensorflow:loss = 93.302574, step = 7001 (0.049 sec)\n",
      "INFO:tensorflow:global_step/sec: 2220.23\n",
      "INFO:tensorflow:loss = 10.869734, step = 7101 (0.045 sec)\n",
      "INFO:tensorflow:global_step/sec: 2125.75\n",
      "INFO:tensorflow:loss = 12.084881, step = 7201 (0.047 sec)\n",
      "INFO:tensorflow:global_step/sec: 1959.05\n",
      "INFO:tensorflow:loss = 15.41306, step = 7301 (0.051 sec)\n",
      "INFO:tensorflow:global_step/sec: 2220.23\n",
      "INFO:tensorflow:loss = 5.0811315, step = 7401 (0.046 sec)\n",
      "INFO:tensorflow:global_step/sec: 2081.49\n",
      "INFO:tensorflow:loss = 8.532501, step = 7501 (0.047 sec)\n",
      "INFO:tensorflow:global_step/sec: 2270.68\n",
      "INFO:tensorflow:loss = 12.949597, step = 7601 (0.045 sec)\n",
      "INFO:tensorflow:global_step/sec: 2125.75\n",
      "INFO:tensorflow:loss = 16.455196, step = 7701 (0.047 sec)\n",
      "INFO:tensorflow:global_step/sec: 2220.27\n",
      "INFO:tensorflow:loss = 14.738935, step = 7801 (0.044 sec)\n",
      "INFO:tensorflow:global_step/sec: 2125.73\n",
      "INFO:tensorflow:loss = 13.595928, step = 7901 (0.048 sec)\n",
      "INFO:tensorflow:global_step/sec: 2270.69\n",
      "INFO:tensorflow:loss = 15.8134, step = 8001 (0.043 sec)\n",
      "INFO:tensorflow:global_step/sec: 2270.74\n",
      "INFO:tensorflow:loss = 19.375957, step = 8101 (0.045 sec)\n",
      "INFO:tensorflow:global_step/sec: 2081.46\n",
      "INFO:tensorflow:loss = 8.071263, step = 8201 (0.047 sec)\n",
      "INFO:tensorflow:global_step/sec: 2171.97\n",
      "INFO:tensorflow:loss = 7.3333244, step = 8301 (0.046 sec)\n",
      "INFO:tensorflow:global_step/sec: 2081.45\n",
      "INFO:tensorflow:loss = 7.844685, step = 8401 (0.048 sec)\n",
      "INFO:tensorflow:global_step/sec: 2039\n",
      "INFO:tensorflow:loss = 22.017092, step = 8501 (0.050 sec)\n",
      "INFO:tensorflow:global_step/sec: 2081.47\n",
      "INFO:tensorflow:loss = 9.397511, step = 8601 (0.048 sec)\n",
      "INFO:tensorflow:global_step/sec: 1959.04\n",
      "INFO:tensorflow:loss = 12.447764, step = 8701 (0.051 sec)\n",
      "INFO:tensorflow:global_step/sec: 1722.58\n",
      "INFO:tensorflow:loss = 62.728012, step = 8801 (0.057 sec)\n",
      "INFO:tensorflow:global_step/sec: 2038.99\n",
      "INFO:tensorflow:loss = 7.1977587, step = 8901 (0.050 sec)\n",
      "INFO:tensorflow:global_step/sec: 1959.07\n",
      "INFO:tensorflow:loss = 11.311271, step = 9001 (0.050 sec)\n",
      "INFO:tensorflow:global_step/sec: 1998.19\n",
      "INFO:tensorflow:loss = 27.489168, step = 9101 (0.051 sec)\n",
      "INFO:tensorflow:global_step/sec: 2039.03\n",
      "INFO:tensorflow:loss = 10.21645, step = 9201 (0.048 sec)\n",
      "INFO:tensorflow:global_step/sec: 2081.43\n",
      "INFO:tensorflow:loss = 14.60504, step = 9301 (0.048 sec)\n",
      "INFO:tensorflow:global_step/sec: 2125.8\n",
      "INFO:tensorflow:loss = 13.751055, step = 9401 (0.048 sec)\n",
      "INFO:tensorflow:global_step/sec: 2039.01\n",
      "INFO:tensorflow:loss = 8.387436, step = 9501 (0.049 sec)\n",
      "INFO:tensorflow:global_step/sec: 2125.73\n",
      "INFO:tensorflow:loss = 6.9860334, step = 9601 (0.047 sec)\n",
      "INFO:tensorflow:global_step/sec: 1693.35\n",
      "INFO:tensorflow:loss = 11.70082, step = 9701 (0.059 sec)\n",
      "INFO:tensorflow:global_step/sec: 1513.82\n",
      "INFO:tensorflow:loss = 6.77131, step = 9801 (0.066 sec)\n",
      "INFO:tensorflow:global_step/sec: 1850.2\n",
      "INFO:tensorflow:loss = 5.7713056, step = 9901 (0.054 sec)\n",
      "INFO:tensorflow:Saving checkpoints for 10000 into C:\\Users\\mario\\AppData\\Local\\Temp\\tmp6ll369jp\\model.ckpt.\n",
      "INFO:tensorflow:Loss for final step: 30.582443.\n"
     ]
    },
    {
     "data": {
      "text/plain": [
       "<tensorflow_estimator.python.estimator.canned.linear.LinearRegressor at 0x20778d822b0>"
      ]
     },
     "execution_count": 25,
     "metadata": {},
     "output_type": "execute_result"
    }
   ],
   "source": [
    "regressor.train(input_fn=funcao_treinamento, steps=10000)"
   ]
  },
  {
   "cell_type": "code",
   "execution_count": 26,
   "metadata": {},
   "outputs": [
    {
     "name": "stdout",
     "output_type": "stream",
     "text": [
      "INFO:tensorflow:Calling model_fn.\n",
      "INFO:tensorflow:Done calling model_fn.\n",
      "INFO:tensorflow:Starting evaluation at 2019-05-27T01:06:05Z\n",
      "INFO:tensorflow:Graph was finalized.\n",
      "WARNING:tensorflow:From C:\\Users\\mario\\Anaconda3\\envs\\Tensorflow\\lib\\site-packages\\tensorflow\\python\\training\\saver.py:1266: checkpoint_exists (from tensorflow.python.training.checkpoint_management) is deprecated and will be removed in a future version.\n",
      "Instructions for updating:\n",
      "Use standard file APIs to check for files with this prefix.\n",
      "INFO:tensorflow:Restoring parameters from C:\\Users\\mario\\AppData\\Local\\Temp\\tmp6ll369jp\\model.ckpt-10000\n",
      "INFO:tensorflow:Running local_init_op.\n",
      "INFO:tensorflow:Done running local_init_op.\n",
      "INFO:tensorflow:Evaluation [1000/10000]\n",
      "INFO:tensorflow:Evaluation [2000/10000]\n",
      "INFO:tensorflow:Evaluation [3000/10000]\n",
      "INFO:tensorflow:Evaluation [4000/10000]\n",
      "INFO:tensorflow:Evaluation [5000/10000]\n",
      "INFO:tensorflow:Evaluation [6000/10000]\n",
      "INFO:tensorflow:Evaluation [7000/10000]\n",
      "INFO:tensorflow:Evaluation [8000/10000]\n",
      "INFO:tensorflow:Evaluation [9000/10000]\n",
      "INFO:tensorflow:Evaluation [10000/10000]\n",
      "INFO:tensorflow:Finished evaluation at 2019-05-27-01:06:09\n",
      "INFO:tensorflow:Saving dict for global step 10000: average_loss = 0.49902323, global_step = 10000, label/mean = 0.0007636975, loss = 15.968743, prediction/mean = 0.0020828098\n",
      "INFO:tensorflow:Saving 'checkpoint_path' summary for global step 10000: C:\\Users\\mario\\AppData\\Local\\Temp\\tmp6ll369jp\\model.ckpt-10000\n"
     ]
    }
   ],
   "source": [
    "metricas_treinamento = regressor.evaluate(input_fn=funcao_treinamento, steps=10000)"
   ]
  },
  {
   "cell_type": "code",
   "execution_count": 27,
   "metadata": {},
   "outputs": [
    {
     "name": "stdout",
     "output_type": "stream",
     "text": [
      "INFO:tensorflow:Calling model_fn.\n",
      "INFO:tensorflow:Done calling model_fn.\n",
      "INFO:tensorflow:Starting evaluation at 2019-05-27T01:07:05Z\n",
      "INFO:tensorflow:Graph was finalized.\n",
      "INFO:tensorflow:Restoring parameters from C:\\Users\\mario\\AppData\\Local\\Temp\\tmp6ll369jp\\model.ckpt-10000\n",
      "INFO:tensorflow:Running local_init_op.\n",
      "INFO:tensorflow:Done running local_init_op.\n",
      "INFO:tensorflow:Evaluation [1000/10000]\n",
      "INFO:tensorflow:Evaluation [2000/10000]\n",
      "INFO:tensorflow:Evaluation [3000/10000]\n",
      "INFO:tensorflow:Evaluation [4000/10000]\n",
      "INFO:tensorflow:Evaluation [5000/10000]\n",
      "INFO:tensorflow:Evaluation [6000/10000]\n",
      "INFO:tensorflow:Evaluation [7000/10000]\n",
      "INFO:tensorflow:Evaluation [8000/10000]\n",
      "INFO:tensorflow:Evaluation [9000/10000]\n",
      "INFO:tensorflow:Evaluation [10000/10000]\n",
      "INFO:tensorflow:Finished evaluation at 2019-05-27-01:07:10\n",
      "INFO:tensorflow:Saving dict for global step 10000: average_loss = 0.52820754, global_step = 10000, label/mean = -0.0016488514, loss = 16.902641, prediction/mean = -0.0044029304\n",
      "INFO:tensorflow:Saving 'checkpoint_path' summary for global step 10000: C:\\Users\\mario\\AppData\\Local\\Temp\\tmp6ll369jp\\model.ckpt-10000\n"
     ]
    }
   ],
   "source": [
    "metricas_teste = regressor.evaluate(input_fn=funcao_teste, steps=10000)"
   ]
  },
  {
   "cell_type": "code",
   "execution_count": 28,
   "metadata": {},
   "outputs": [
    {
     "data": {
      "text/plain": [
       "{'average_loss': 0.49902323,\n",
       " 'label/mean': 0.0007636975,\n",
       " 'loss': 15.968743,\n",
       " 'prediction/mean': 0.0020828098,\n",
       " 'global_step': 10000}"
      ]
     },
     "execution_count": 28,
     "metadata": {},
     "output_type": "execute_result"
    }
   ],
   "source": [
    "metricas_treinamento"
   ]
  },
  {
   "cell_type": "code",
   "execution_count": 29,
   "metadata": {},
   "outputs": [
    {
     "data": {
      "text/plain": [
       "{'average_loss': 0.52820754,\n",
       " 'label/mean': -0.0016488514,\n",
       " 'loss': 16.902641,\n",
       " 'prediction/mean': -0.0044029304,\n",
       " 'global_step': 10000}"
      ]
     },
     "execution_count": 29,
     "metadata": {},
     "output_type": "execute_result"
    }
   ],
   "source": [
    "metricas_teste"
   ]
  },
  {
   "cell_type": "code",
   "execution_count": 30,
   "metadata": {},
   "outputs": [],
   "source": [
    "import numpy as np"
   ]
  },
  {
   "cell_type": "code",
   "execution_count": 32,
   "metadata": {},
   "outputs": [
    {
     "data": {
      "text/plain": [
       "array([[ 800],\n",
       "       [ 900],\n",
       "       [1000]])"
      ]
     },
     "execution_count": 32,
     "metadata": {},
     "output_type": "execute_result"
    }
   ],
   "source": [
    "novas_casas = np.array([[800],[900],[1000]])\n",
    "novas_casas"
   ]
  },
  {
   "cell_type": "code",
   "execution_count": 33,
   "metadata": {},
   "outputs": [
    {
     "name": "stderr",
     "output_type": "stream",
     "text": [
      "C:\\Users\\mario\\Anaconda3\\envs\\Tensorflow\\lib\\site-packages\\sklearn\\utils\\validation.py:595: DataConversionWarning: Data with input dtype int32 was converted to float64 by StandardScaler.\n",
      "  warnings.warn(msg, DataConversionWarning)\n"
     ]
    },
    {
     "data": {
      "text/plain": [
       "array([[-1.39358923],\n",
       "       [-1.28470655],\n",
       "       [-1.17582386]])"
      ]
     },
     "execution_count": 33,
     "metadata": {},
     "output_type": "execute_result"
    }
   ],
   "source": [
    "novas_casas = scaler_x.transform(novas_casas)\n",
    "novas_casas"
   ]
  },
  {
   "cell_type": "code",
   "execution_count": 34,
   "metadata": {},
   "outputs": [],
   "source": [
    "funcao_preovisao = tf.estimator.inputs.numpy_input_fn({'x':novas_casas},shuffle=False)"
   ]
  },
  {
   "cell_type": "code",
   "execution_count": 35,
   "metadata": {},
   "outputs": [],
   "source": [
    "previsoes = regressor.predict(input_fn=funcao_preovisao)"
   ]
  },
  {
   "cell_type": "code",
   "execution_count": 36,
   "metadata": {},
   "outputs": [
    {
     "data": {
      "text/plain": [
       "<generator object EstimatorV2.predict at 0x000002077A6E0780>"
      ]
     },
     "execution_count": 36,
     "metadata": {},
     "output_type": "execute_result"
    }
   ],
   "source": [
    "previsoes"
   ]
  },
  {
   "cell_type": "code",
   "execution_count": 37,
   "metadata": {},
   "outputs": [
    {
     "name": "stdout",
     "output_type": "stream",
     "text": [
      "INFO:tensorflow:Calling model_fn.\n",
      "INFO:tensorflow:Done calling model_fn.\n",
      "INFO:tensorflow:Graph was finalized.\n",
      "INFO:tensorflow:Restoring parameters from C:\\Users\\mario\\AppData\\Local\\Temp\\tmp6ll369jp\\model.ckpt-10000\n",
      "INFO:tensorflow:Running local_init_op.\n",
      "INFO:tensorflow:Done running local_init_op.\n"
     ]
    },
    {
     "data": {
      "text/plain": [
       "[{'predictions': array([-0.95396197], dtype=float32)},\n",
       " {'predictions': array([-0.8794168], dtype=float32)},\n",
       " {'predictions': array([-0.80487156], dtype=float32)}]"
      ]
     },
     "execution_count": 37,
     "metadata": {},
     "output_type": "execute_result"
    }
   ],
   "source": [
    "list(previsoes)"
   ]
  },
  {
   "cell_type": "code",
   "execution_count": 39,
   "metadata": {},
   "outputs": [
    {
     "name": "stdout",
     "output_type": "stream",
     "text": [
      "INFO:tensorflow:Calling model_fn.\n",
      "INFO:tensorflow:Done calling model_fn.\n",
      "INFO:tensorflow:Graph was finalized.\n",
      "INFO:tensorflow:Restoring parameters from C:\\Users\\mario\\AppData\\Local\\Temp\\tmp6ll369jp\\model.ckpt-10000\n",
      "INFO:tensorflow:Running local_init_op.\n",
      "INFO:tensorflow:Done running local_init_op.\n",
      "[189870.86]\n",
      "[217237.77]\n",
      "[244604.73]\n"
     ]
    }
   ],
   "source": [
    "for p in regressor.predict(input_fn=funcao_preovisao):\n",
    "    print(scaler_y.inverse_transform(p['predictions']))"
   ]
  },
  {
   "cell_type": "code",
   "execution_count": null,
   "metadata": {},
   "outputs": [],
   "source": []
  }
 ],
 "metadata": {
  "kernelspec": {
   "display_name": "Python 3",
   "language": "python",
   "name": "python3"
  },
  "language_info": {
   "codemirror_mode": {
    "name": "ipython",
    "version": 3
   },
   "file_extension": ".py",
   "mimetype": "text/x-python",
   "name": "python",
   "nbconvert_exporter": "python",
   "pygments_lexer": "ipython3",
   "version": "3.6.8"
  }
 },
 "nbformat": 4,
 "nbformat_minor": 2
}
