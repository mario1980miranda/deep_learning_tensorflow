{
 "cells": [
  {
   "cell_type": "code",
   "execution_count": 40,
   "metadata": {},
   "outputs": [
    {
     "data": {
      "text/plain": [
       "array([[0, 0],\n",
       "       [0, 1],\n",
       "       [1, 0],\n",
       "       [1, 1]])"
      ]
     },
     "execution_count": 40,
     "metadata": {},
     "output_type": "execute_result"
    }
   ],
   "source": [
    "import tensorflow as tf\n",
    "import numpy as np\n",
    "\n",
    "X = np.array([[0,0], [0,1], [1,0], [1,1]])\n",
    "X"
   ]
  },
  {
   "cell_type": "code",
   "execution_count": 36,
   "metadata": {},
   "outputs": [
    {
     "data": {
      "text/plain": [
       "array([[1],\n",
       "       [0],\n",
       "       [0],\n",
       "       [1]])"
      ]
     },
     "execution_count": 36,
     "metadata": {},
     "output_type": "execute_result"
    }
   ],
   "source": [
    "y = np.array([[1], [0], [0], [1]])\n",
    "y"
   ]
  },
  {
   "cell_type": "code",
   "execution_count": null,
   "metadata": {},
   "outputs": [],
   "source": [
    "neuronios_entrada = 2\n",
    "neuronios_oculta = 3\n",
    "neuronios_saida = 1"
   ]
  },
  {
   "cell_type": "code",
   "execution_count": null,
   "metadata": {},
   "outputs": [],
   "source": [
    "W = {'oculta': tf.Variable(tf.random_normal([neuronios_entrada, neuronios_oculta]), name = 'w_oculta'), \n",
    "     'saida': tf.Variable(tf.random_normal([neuronios_oculta, neuronios_saida]), name = 'w_saida')}"
   ]
  },
  {
   "cell_type": "code",
   "execution_count": null,
   "metadata": {},
   "outputs": [],
   "source": [
    "type(W)"
   ]
  },
  {
   "cell_type": "code",
   "execution_count": null,
   "metadata": {},
   "outputs": [],
   "source": [
    "type(W['oculta'])"
   ]
  },
  {
   "cell_type": "code",
   "execution_count": null,
   "metadata": {},
   "outputs": [],
   "source": [
    "W['oculta']"
   ]
  },
  {
   "cell_type": "code",
   "execution_count": null,
   "metadata": {},
   "outputs": [],
   "source": [
    "W['saida']"
   ]
  },
  {
   "cell_type": "code",
   "execution_count": null,
   "metadata": {},
   "outputs": [],
   "source": [
    "distribuicao = np.random.normal(size = 500)\n",
    "#distribuicao\n",
    "import seaborn as sns\n",
    "%matplotlib inline\n",
    "sns.distplot(distribuicao)"
   ]
  },
  {
   "cell_type": "code",
   "execution_count": 33,
   "metadata": {},
   "outputs": [],
   "source": [
    "b = {'oculta': tf.Variable(tf.random_normal([neuronios_oculta]), name = 'b_oculta'),\n",
    "     'saida': tf.Variable(tf.random_normal([neuronios_saida]), name = 'b_saida')}"
   ]
  },
  {
   "cell_type": "code",
   "execution_count": 37,
   "metadata": {},
   "outputs": [],
   "source": [
    "xph = tf.placeholder(tf.float32, [4, neuronios_entrada], name = 'xph')\n",
    "yph = tf.placeholder(tf.float32, [4, neuronios_saida], name = 'yph')"
   ]
  },
  {
   "cell_type": "code",
   "execution_count": 48,
   "metadata": {},
   "outputs": [],
   "source": [
    "camada_oculta = tf.add(tf.matmul(xph, W['oculta']), b['oculta'])\n",
    "camada_oculta_ativacao = tf.sigmoid(camada_oculta)\n",
    "camada_saida = tf.add(tf.matmul(camada_oculta_ativacao, W['saida']), b['saida'])\n",
    "camada_saida_ativacao = tf.sigmoid(camada_saida)\n",
    "erro = tf.losses.mean_squared_error(yph, camada_saida_ativacao)\n",
    "otimizador = tf.train.GradientDescentOptimizer(learning_rate = 0.3).minimize(erro)"
   ]
  },
  {
   "cell_type": "code",
   "execution_count": 34,
   "metadata": {},
   "outputs": [],
   "source": [
    "init = tf.global_variables_initializer()"
   ]
  },
  {
   "cell_type": "code",
   "execution_count": 56,
   "metadata": {},
   "outputs": [
    {
     "name": "stdout",
     "output_type": "stream",
     "text": [
      "0.06281377375125885\n",
      "0.06256651878356934\n",
      "0.06253638863563538\n",
      "0.06251109391450882\n",
      "0.062486086040735245\n",
      "0.062457188963890076\n",
      "0.06241883337497711\n",
      "0.06236151605844498\n",
      "0.06226633861660957\n",
      "0.062091708183288574\n",
      "0.06173840910196304\n",
      "0.0609598346054554\n",
      "0.05916708707809448\n",
      "0.055213894695043564\n",
      "0.04775196686387062\n",
      "0.03625539690256119\n",
      "0.023227393627166748\n",
      "0.013901830650866032\n",
      "0.008813797496259212\n",
      "0.0060809762217104435\n",
      "0.004499789327383041\n",
      "0.003508562920615077\n",
      "0.002844051690772176\n",
      "0.002374144271016121\n",
      "0.002027465496212244\n",
      "0.0017628681380301714\n",
      "0.0015552460681647062\n",
      "0.0013885670341551304\n",
      "0.0012521727476269007\n",
      "0.0011387349804863334\n",
      "0.0010430729016661644\n",
      "0.0009614211157895625\n",
      "0.0008909947937354445\n",
      "0.0008296862943097949\n",
      "0.0007758756983093917\n",
      "0.000728301121853292\n",
      "0.0006859637214802206\n",
      "0.000648061279207468\n",
      "0.0006139488541521132\n",
      "0.0005830968730151653\n",
      "0.0005550706409849226\n",
      "0.0005295046721585095\n",
      "0.0005060972180217505\n",
      "0.00048459030222147703\n",
      "0.00046476683928631246\n",
      "0.0004464402445591986\n",
      "0.00042945053428411484\n",
      "0.0004136586794629693\n",
      "0.00039894477231428027\n",
      "0.00038520581438206136\n"
     ]
    }
   ],
   "source": [
    "with tf.Session() as sess:\n",
    "    sess.run(init)\n",
    "    #print(sess.run(W['oculta']))\n",
    "    #print(sess.run(W['saida']))\n",
    "    #print(sess.run(b['oculta']))\n",
    "    #print('\\n')\n",
    "    #print(sess.run(b['saida']))\n",
    "    #print(sess.run(camada_oculta, feed_dict = {xph: X}))\n",
    "    #print(sess.run(camada_oculta_ativacao, feed_dict = {xph: X}))\n",
    "    #print(sess.run(camada_saida, feed_dict = {xph: X}))\n",
    "    #print(sess.run(camada_saida_ativacao, feed_dict = {xph: X}))\n",
    "    for epocas in range(10000):\n",
    "        erro_medio = 0\n",
    "        _, custo = sess.run([otimizador, erro], feed_dict = {xph: X, yph: y})\n",
    "        if epocas % 200 == 0:\n",
    "            #print(custo)\n",
    "            erro_medio += custo / 4\n",
    "            print(erro_medio)\n",
    "    W_final, b_final = sess.run([W, b])\n",
    "            "
   ]
  },
  {
   "cell_type": "code",
   "execution_count": 57,
   "metadata": {},
   "outputs": [
    {
     "data": {
      "text/plain": [
       "{'oculta': array([[-3.5366604, -5.8264346, -4.2535715],\n",
       "        [-2.8692062,  4.761803 ,  5.7585716]], dtype=float32),\n",
       " 'saida': array([[ 3.3355477],\n",
       "        [-7.7334876],\n",
       "        [ 7.263449 ]], dtype=float32)}"
      ]
     },
     "execution_count": 57,
     "metadata": {},
     "output_type": "execute_result"
    }
   ],
   "source": [
    "W_final"
   ]
  },
  {
   "cell_type": "code",
   "execution_count": 58,
   "metadata": {},
   "outputs": [
    {
     "data": {
      "text/plain": [
       "{'oculta': array([ 0.21722403, -2.4004495 ,  1.7168214 ], dtype=float32),\n",
       " 'saida': array([-3.7106764], dtype=float32)}"
      ]
     },
     "execution_count": 58,
     "metadata": {},
     "output_type": "execute_result"
    }
   ],
   "source": [
    "b_final"
   ]
  },
  {
   "cell_type": "code",
   "execution_count": 60,
   "metadata": {},
   "outputs": [],
   "source": [
    "# teste\n",
    "camada_oculta_teste = tf.add(tf.matmul(xph, W_final['oculta']), b_final['oculta'])\n",
    "camada_oculta_ativacao_teste = tf.sigmoid(camada_oculta_teste)\n",
    "camada_saida_teste = tf.add(tf.matmul(camada_oculta_ativacao_teste, W_final['saida']), b_final['saida'])\n",
    "camada_saida_ativacao_teste = tf.sigmoid(camada_saida_teste)"
   ]
  },
  {
   "cell_type": "code",
   "execution_count": 61,
   "metadata": {},
   "outputs": [
    {
     "name": "stdout",
     "output_type": "stream",
     "text": [
      "[[0.97471523]\n",
      " [0.03561402]\n",
      " [0.0446284 ]\n",
      " [0.95463276]]\n"
     ]
    }
   ],
   "source": [
    "with tf.Session() as sess:\n",
    "    sess.run(init)\n",
    "    print(sess.run(camada_saida_ativacao_teste, feed_dict = {xph: X}))"
   ]
  }
 ],
 "metadata": {
  "kernelspec": {
   "display_name": "Python 3",
   "language": "python",
   "name": "python3"
  },
  "language_info": {
   "codemirror_mode": {
    "name": "ipython",
    "version": 3
   },
   "file_extension": ".py",
   "mimetype": "text/x-python",
   "name": "python",
   "nbconvert_exporter": "python",
   "pygments_lexer": "ipython3",
   "version": "3.6.8"
  }
 },
 "nbformat": 4,
 "nbformat_minor": 2
}
